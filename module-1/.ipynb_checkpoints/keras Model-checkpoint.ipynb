{
 "cells": [
  {
   "cell_type": "code",
   "execution_count": null,
   "metadata": {},
   "outputs": [],
   "source": [
    "import tensorflow as tf"
   ]
  },
  {
   "cell_type": "code",
   "execution_count": 1,
   "metadata": {},
   "outputs": [],
   "source": [
    "\n",
    "import numpy as np\n",
    "from tensorflow import keras\n",
    "import os\n",
    "os.environ['PYTHONHASHSEED']='0'"
   ]
  },
  {
   "cell_type": "code",
   "execution_count": null,
   "metadata": {},
   "outputs": [],
   "source": []
  },
  {
   "cell_type": "code",
   "execution_count": 2,
   "metadata": {},
   "outputs": [],
   "source": [
    "np.random.seed(37)"
   ]
  },
  {
   "cell_type": "code",
   "execution_count": null,
   "metadata": {},
   "outputs": [],
   "source": []
  },
  {
   "cell_type": "code",
   "execution_count": null,
   "metadata": {},
   "outputs": [],
   "source": []
  },
  {
   "cell_type": "code",
   "execution_count": 7,
   "metadata": {},
   "outputs": [],
   "source": [
    "import random as rn\n",
    "rn.seed(1254)"
   ]
  },
  {
   "cell_type": "code",
   "execution_count": null,
   "metadata": {},
   "outputs": [],
   "source": []
  },
  {
   "cell_type": "code",
   "execution_count": 8,
   "metadata": {},
   "outputs": [],
   "source": [
    "#tf.set_random_seed(89)"
   ]
  },
  {
   "cell_type": "code",
   "execution_count": null,
   "metadata": {},
   "outputs": [],
   "source": []
  },
  {
   "cell_type": "code",
   "execution_count": 9,
   "metadata": {},
   "outputs": [],
   "source": [
    "#print(Tfidf_vect.vocabulary_)\n",
    "import pandas as pd\n",
    "import matplotlib.pyplot as plt\n",
    "import seaborn as sns\n",
    "from sklearn.model_selection import train_test_split\n",
    "from sklearn.preprocessing import LabelBinarizer\n",
    "from keras.preprocessing.text import Tokenizer\n",
    "from keras.models import Sequential\n",
    "from keras.layers.core import Dense, Dropout, Activation\n",
    "from keras import metrics\n",
    "from sklearn.preprocessing import LabelBinarizer\n",
    "from keras.optimizers import Adam\n",
    "#from tensorflow.keras.optimizers import sth"
   ]
  },
  {
   "cell_type": "code",
   "execution_count": 10,
   "metadata": {},
   "outputs": [],
   "source": [
    "data=pd.read_csv('data/25_cleaned_job_descriptions.csv',names = ['Query', 'Description'],header = 0)"
   ]
  },
  {
   "cell_type": "code",
   "execution_count": 11,
   "metadata": {},
   "outputs": [
    {
     "data": {
      "text/html": [
       "<div>\n",
       "<style scoped>\n",
       "    .dataframe tbody tr th:only-of-type {\n",
       "        vertical-align: middle;\n",
       "    }\n",
       "\n",
       "    .dataframe tbody tr th {\n",
       "        vertical-align: top;\n",
       "    }\n",
       "\n",
       "    .dataframe thead th {\n",
       "        text-align: right;\n",
       "    }\n",
       "</style>\n",
       "<table border=\"1\" class=\"dataframe\">\n",
       "  <thead>\n",
       "    <tr style=\"text-align: right;\">\n",
       "      <th></th>\n",
       "      <th>Query</th>\n",
       "      <th>Description</th>\n",
       "    </tr>\n",
       "  </thead>\n",
       "  <tbody>\n",
       "    <tr>\n",
       "      <th>0</th>\n",
       "      <td>Data Scientist</td>\n",
       "      <td>job description junior data scientist ibm work...</td>\n",
       "    </tr>\n",
       "    <tr>\n",
       "      <th>1</th>\n",
       "      <td>Data Scientist</td>\n",
       "      <td>overall summary data scientist data science so...</td>\n",
       "    </tr>\n",
       "    <tr>\n",
       "      <th>2</th>\n",
       "      <td>Data Scientist</td>\n",
       "      <td>team data science team newly formed applied re...</td>\n",
       "    </tr>\n",
       "    <tr>\n",
       "      <th>3</th>\n",
       "      <td>Data Scientist</td>\n",
       "      <td>need junior data scientist ny area remote succ...</td>\n",
       "    </tr>\n",
       "    <tr>\n",
       "      <th>4</th>\n",
       "      <td>Data Scientist</td>\n",
       "      <td>want help guide core business spotify using in...</td>\n",
       "    </tr>\n",
       "  </tbody>\n",
       "</table>\n",
       "</div>"
      ],
      "text/plain": [
       "            Query                                        Description\n",
       "0  Data Scientist  job description junior data scientist ibm work...\n",
       "1  Data Scientist  overall summary data scientist data science so...\n",
       "2  Data Scientist  team data science team newly formed applied re...\n",
       "3  Data Scientist  need junior data scientist ny area remote succ...\n",
       "4  Data Scientist  want help guide core business spotify using in..."
      ]
     },
     "execution_count": 11,
     "metadata": {},
     "output_type": "execute_result"
    }
   ],
   "source": [
    "data.head()"
   ]
  },
  {
   "cell_type": "code",
   "execution_count": 12,
   "metadata": {},
   "outputs": [],
   "source": [
    "vocab_size=500\n",
    "max_length=500\n",
    "batch_size = 500\n",
    "nb_epoch = 30"
   ]
  },
  {
   "cell_type": "code",
   "execution_count": 13,
   "metadata": {},
   "outputs": [],
   "source": [
    "train, test = train_test_split(data, test_size=0.2)"
   ]
  },
  {
   "cell_type": "code",
   "execution_count": 14,
   "metadata": {},
   "outputs": [],
   "source": [
    "train_descs = train['Description']\n",
    "train_labels = train['Query']\n",
    "\n",
    "test_descs = test['Description']\n",
    "test_labels = test['Query']"
   ]
  },
  {
   "cell_type": "code",
   "execution_count": 15,
   "metadata": {},
   "outputs": [],
   "source": [
    "tokenizer = Tokenizer(num_words=vocab_size)\n",
    "tokenizer.fit_on_texts(train_descs)\n",
    "x_train = tokenizer.texts_to_matrix(train_descs, mode='tfidf')\n",
    "x_test = tokenizer.texts_to_matrix(test_descs, mode='tfidf')"
   ]
  },
  {
   "cell_type": "code",
   "execution_count": 16,
   "metadata": {},
   "outputs": [],
   "source": [
    "encoder = LabelBinarizer()\n",
    "encoder.fit(train_labels)\n",
    "y_train = encoder.transform(train_labels)\n",
    "y_test = encoder.transform(test_labels)"
   ]
  },
  {
   "cell_type": "code",
   "execution_count": 17,
   "metadata": {},
   "outputs": [],
   "source": [
    "model = Sequential()\n",
    "model.add(Dense(512, input_shape=(vocab_size,)))\n",
    "model.add(Activation('relu'))\n",
    "model.add(Dropout(0.1))\n",
    "model.add(Dense(512))\n",
    "model.add(Activation('relu'))\n",
    "model.add(Dropout(0.1))\n",
    "model.add(Dense(25))\n",
    "model.add(Activation('softmax'))\n"
   ]
  },
  {
   "cell_type": "code",
   "execution_count": 18,
   "metadata": {},
   "outputs": [],
   "source": [
    "model.compile(loss ='categorical_crossentropy',optimizer = Adam(),metrics = ['accuracy'])"
   ]
  },
  {
   "cell_type": "code",
   "execution_count": 19,
   "metadata": {},
   "outputs": [
    {
     "name": "stdout",
     "output_type": "stream",
     "text": [
      "Epoch 1/50\n",
      "15/15 [==============================] - 3s 28ms/step - loss: 3.0089 - accuracy: 0.1592 - val_loss: 2.0229 - val_accuracy: 0.4250\n",
      "Epoch 2/50\n",
      "15/15 [==============================] - 0s 6ms/step - loss: 1.7209 - accuracy: 0.5017 - val_loss: 1.6449 - val_accuracy: 0.5100\n",
      "Epoch 3/50\n",
      "15/15 [==============================] - 0s 6ms/step - loss: 1.2270 - accuracy: 0.6393 - val_loss: 1.5045 - val_accuracy: 0.5537\n",
      "Epoch 4/50\n",
      "15/15 [==============================] - 0s 7ms/step - loss: 0.9493 - accuracy: 0.7274 - val_loss: 1.4636 - val_accuracy: 0.5587\n",
      "Epoch 5/50\n",
      "15/15 [==============================] - 0s 7ms/step - loss: 0.7272 - accuracy: 0.7934 - val_loss: 1.4513 - val_accuracy: 0.5788\n",
      "Epoch 6/50\n",
      "15/15 [==============================] - 0s 7ms/step - loss: 0.5734 - accuracy: 0.8298 - val_loss: 1.4238 - val_accuracy: 0.6012\n",
      "Epoch 7/50\n",
      "15/15 [==============================] - 0s 6ms/step - loss: 0.4575 - accuracy: 0.8714 - val_loss: 1.4627 - val_accuracy: 0.5913\n",
      "Epoch 8/50\n",
      "15/15 [==============================] - 0s 6ms/step - loss: 0.3820 - accuracy: 0.8940 - val_loss: 1.4905 - val_accuracy: 0.5938\n",
      "Epoch 9/50\n",
      "15/15 [==============================] - 0s 6ms/step - loss: 0.2820 - accuracy: 0.9294 - val_loss: 1.5263 - val_accuracy: 0.5975\n",
      "Epoch 10/50\n",
      "15/15 [==============================] - 0s 6ms/step - loss: 0.2401 - accuracy: 0.9423 - val_loss: 1.5793 - val_accuracy: 0.6012\n",
      "Epoch 11/50\n",
      "15/15 [==============================] - 0s 6ms/step - loss: 0.1814 - accuracy: 0.9600 - val_loss: 1.6337 - val_accuracy: 0.6025\n",
      "Epoch 12/50\n",
      "15/15 [==============================] - 0s 6ms/step - loss: 0.1541 - accuracy: 0.9676 - val_loss: 1.6735 - val_accuracy: 0.5850\n",
      "Epoch 13/50\n",
      "15/15 [==============================] - 0s 6ms/step - loss: 0.1291 - accuracy: 0.9724 - val_loss: 1.7639 - val_accuracy: 0.5925\n",
      "Epoch 14/50\n",
      "15/15 [==============================] - 0s 6ms/step - loss: 0.1168 - accuracy: 0.9773 - val_loss: 1.7747 - val_accuracy: 0.5925\n",
      "Epoch 15/50\n",
      "15/15 [==============================] - 0s 6ms/step - loss: 0.0915 - accuracy: 0.9821 - val_loss: 1.7584 - val_accuracy: 0.6125\n",
      "Epoch 16/50\n",
      "15/15 [==============================] - 0s 6ms/step - loss: 0.0845 - accuracy: 0.9833 - val_loss: 1.8134 - val_accuracy: 0.6012\n",
      "Epoch 17/50\n",
      "15/15 [==============================] - 0s 6ms/step - loss: 0.0805 - accuracy: 0.9844 - val_loss: 1.8408 - val_accuracy: 0.6100\n",
      "Epoch 18/50\n",
      "15/15 [==============================] - 0s 6ms/step - loss: 0.0766 - accuracy: 0.9840 - val_loss: 1.8823 - val_accuracy: 0.6150\n",
      "Epoch 19/50\n",
      "15/15 [==============================] - 0s 6ms/step - loss: 0.0713 - accuracy: 0.9858 - val_loss: 1.8925 - val_accuracy: 0.5987\n",
      "Epoch 20/50\n",
      "15/15 [==============================] - 0s 7ms/step - loss: 0.0702 - accuracy: 0.9855 - val_loss: 1.9124 - val_accuracy: 0.6150\n",
      "Epoch 21/50\n",
      "15/15 [==============================] - 0s 7ms/step - loss: 0.0736 - accuracy: 0.9837 - val_loss: 1.9518 - val_accuracy: 0.6000\n",
      "Epoch 22/50\n",
      "15/15 [==============================] - 0s 6ms/step - loss: 0.0766 - accuracy: 0.9849 - val_loss: 1.9171 - val_accuracy: 0.6050\n",
      "Epoch 23/50\n",
      "15/15 [==============================] - 0s 6ms/step - loss: 0.0574 - accuracy: 0.9889 - val_loss: 1.9374 - val_accuracy: 0.5987\n",
      "Epoch 24/50\n",
      "15/15 [==============================] - 0s 6ms/step - loss: 0.0447 - accuracy: 0.9900 - val_loss: 1.9899 - val_accuracy: 0.6037\n",
      "Epoch 25/50\n",
      "15/15 [==============================] - 0s 6ms/step - loss: 0.0524 - accuracy: 0.9875 - val_loss: 1.9623 - val_accuracy: 0.6100\n",
      "Epoch 26/50\n",
      "15/15 [==============================] - 0s 6ms/step - loss: 0.0549 - accuracy: 0.9876 - val_loss: 2.0315 - val_accuracy: 0.5962\n",
      "Epoch 27/50\n",
      "15/15 [==============================] - 0s 6ms/step - loss: 0.0478 - accuracy: 0.9885 - val_loss: 2.0809 - val_accuracy: 0.5938\n",
      "Epoch 28/50\n",
      "15/15 [==============================] - 0s 6ms/step - loss: 0.0570 - accuracy: 0.9875 - val_loss: 2.0097 - val_accuracy: 0.6075\n",
      "Epoch 29/50\n",
      "15/15 [==============================] - 0s 6ms/step - loss: 0.0419 - accuracy: 0.9889 - val_loss: 2.0151 - val_accuracy: 0.6037\n",
      "Epoch 30/50\n",
      "15/15 [==============================] - 0s 6ms/step - loss: 0.0469 - accuracy: 0.9876 - val_loss: 2.0651 - val_accuracy: 0.6062\n",
      "Epoch 31/50\n",
      "15/15 [==============================] - 0s 6ms/step - loss: 0.0458 - accuracy: 0.9891 - val_loss: 2.0449 - val_accuracy: 0.6025\n",
      "Epoch 32/50\n",
      "15/15 [==============================] - 0s 6ms/step - loss: 0.0447 - accuracy: 0.9883 - val_loss: 2.0609 - val_accuracy: 0.5987\n",
      "Epoch 33/50\n",
      "15/15 [==============================] - 0s 6ms/step - loss: 0.0446 - accuracy: 0.9882 - val_loss: 2.1266 - val_accuracy: 0.5962\n",
      "Epoch 34/50\n",
      "15/15 [==============================] - 0s 6ms/step - loss: 0.0416 - accuracy: 0.9903 - val_loss: 2.1188 - val_accuracy: 0.5975\n",
      "Epoch 35/50\n",
      "15/15 [==============================] - 0s 6ms/step - loss: 0.0384 - accuracy: 0.9896 - val_loss: 2.0596 - val_accuracy: 0.6000\n",
      "Epoch 36/50\n",
      "15/15 [==============================] - 0s 6ms/step - loss: 0.0389 - accuracy: 0.9912 - val_loss: 2.0943 - val_accuracy: 0.6050\n",
      "Epoch 37/50\n",
      "15/15 [==============================] - 0s 6ms/step - loss: 0.0347 - accuracy: 0.9889 - val_loss: 2.1091 - val_accuracy: 0.6037\n",
      "Epoch 38/50\n",
      "15/15 [==============================] - 0s 6ms/step - loss: 0.0364 - accuracy: 0.9902 - val_loss: 2.1544 - val_accuracy: 0.6112\n",
      "Epoch 39/50\n",
      "15/15 [==============================] - 0s 6ms/step - loss: 0.0420 - accuracy: 0.9879 - val_loss: 2.0811 - val_accuracy: 0.6125\n",
      "Epoch 40/50\n",
      "15/15 [==============================] - 0s 6ms/step - loss: 0.0364 - accuracy: 0.9902 - val_loss: 2.1273 - val_accuracy: 0.5987\n",
      "Epoch 41/50\n",
      "15/15 [==============================] - 0s 6ms/step - loss: 0.0416 - accuracy: 0.9885 - val_loss: 2.0869 - val_accuracy: 0.6050\n",
      "Epoch 42/50\n",
      "15/15 [==============================] - 0s 6ms/step - loss: 0.0340 - accuracy: 0.9895 - val_loss: 2.1425 - val_accuracy: 0.5950\n",
      "Epoch 43/50\n",
      "15/15 [==============================] - 0s 6ms/step - loss: 0.0366 - accuracy: 0.9907 - val_loss: 2.0772 - val_accuracy: 0.6012\n",
      "Epoch 44/50\n",
      "15/15 [==============================] - 0s 6ms/step - loss: 0.0340 - accuracy: 0.9907 - val_loss: 2.1517 - val_accuracy: 0.6112\n",
      "Epoch 45/50\n",
      "15/15 [==============================] - 0s 6ms/step - loss: 0.0339 - accuracy: 0.9891 - val_loss: 2.1407 - val_accuracy: 0.6100\n",
      "Epoch 46/50\n",
      "15/15 [==============================] - 0s 6ms/step - loss: 0.0325 - accuracy: 0.9900 - val_loss: 2.1905 - val_accuracy: 0.6000\n",
      "Epoch 47/50\n",
      "15/15 [==============================] - 0s 6ms/step - loss: 0.0318 - accuracy: 0.9913 - val_loss: 2.1930 - val_accuracy: 0.6100\n",
      "Epoch 48/50\n",
      "15/15 [==============================] - 0s 6ms/step - loss: 0.0349 - accuracy: 0.9903 - val_loss: 2.2240 - val_accuracy: 0.6037\n",
      "Epoch 49/50\n",
      "15/15 [==============================] - 0s 6ms/step - loss: 0.0326 - accuracy: 0.9928 - val_loss: 2.2168 - val_accuracy: 0.6037\n",
      "Epoch 50/50\n",
      "15/15 [==============================] - 0s 6ms/step - loss: 0.0280 - accuracy: 0.9917 - val_loss: 2.1787 - val_accuracy: 0.6037\n"
     ]
    },
    {
     "data": {
      "text/plain": [
       "<tensorflow.python.keras.callbacks.History at 0x1532670a730>"
      ]
     },
     "execution_count": 19,
     "metadata": {},
     "output_type": "execute_result"
    }
   ],
   "source": [
    "model.fit(x_train,y_train,batch_size=500,epochs=50,verbose=1,validation_split=0.1)"
   ]
  },
  {
   "cell_type": "code",
   "execution_count": 89,
   "metadata": {},
   "outputs": [
    {
     "name": "stdout",
     "output_type": "stream",
     "text": [
      "2000/2000 [==============================] - 0s 47us/step\n"
     ]
    }
   ],
   "source": [
    "score = model.evaluate(x_test, y_test)"
   ]
  },
  {
   "cell_type": "code",
   "execution_count": 90,
   "metadata": {},
   "outputs": [
    {
     "data": {
      "text/plain": [
       "[1.8947658920288086, 0.6200000047683716]"
      ]
     },
     "execution_count": 90,
     "metadata": {},
     "output_type": "execute_result"
    }
   ],
   "source": [
    "score"
   ]
  },
  {
   "cell_type": "code",
   "execution_count": 46,
   "metadata": {},
   "outputs": [],
   "source": [
    "import pickle\n",
    "with open('model_nn','wb') as f:\n",
    "    pickle.dump(model,f)"
   ]
  },
  {
   "cell_type": "code",
   "execution_count": 47,
   "metadata": {},
   "outputs": [],
   "source": [
    "with open('model_nn','rb') as f:\n",
    "    ms=pickle.load(f)"
   ]
  },
  {
   "cell_type": "code",
   "execution_count": 91,
   "metadata": {},
   "outputs": [],
   "source": [
    "model.save('my_model_s.h5')"
   ]
  },
  {
   "cell_type": "code",
   "execution_count": 92,
   "metadata": {},
   "outputs": [],
   "source": [
    "new_model = tf.keras.models.load_model(\"my_model_s.h5\")"
   ]
  },
  {
   "cell_type": "code",
   "execution_count": 104,
   "metadata": {},
   "outputs": [
    {
     "data": {
      "text/plain": [
       "'IT Systems Administrator'"
      ]
     },
     "execution_count": 104,
     "metadata": {},
     "output_type": "execute_result"
    }
   ],
   "source": [
    "from keras.preprocessing.sequence import pad_sequences\n",
    "from keras.preprocessing.text import one_hot\n",
    "user_text=\"JAVA C\"\n",
    "encoded_docs = [one_hot(user_text,vocab_size)]\n",
    "        # pad documents to a max length\n",
    "padded_text = pad_sequences(encoded_docs, maxlen=max_length, padding='post')\n",
    "        # Prediction based on model\n",
    "prediction = new_model.predict(padded_text)\n",
    "        # Decode the prediction\n",
    "encoder = LabelBinarizer()\n",
    "encoder.fit(test_labels)\n",
    "result = encoder.inverse_transform(prediction)\n",
    "result[0]"
   ]
  },
  {
   "cell_type": "code",
   "execution_count": null,
   "metadata": {},
   "outputs": [],
   "source": []
  },
  {
   "cell_type": "code",
   "execution_count": 49,
   "metadata": {},
   "outputs": [],
   "source": [
    "import pymysql"
   ]
  },
  {
   "cell_type": "code",
   "execution_count": null,
   "metadata": {},
   "outputs": [],
   "source": []
  },
  {
   "cell_type": "code",
   "execution_count": 57,
   "metadata": {},
   "outputs": [
    {
     "ename": "TypeError",
     "evalue": "__init__() got an unexpected keyword argument 'dbname'",
     "output_type": "error",
     "traceback": [
      "\u001b[1;31m---------------------------------------------------------------------------\u001b[0m",
      "\u001b[1;31mTypeError\u001b[0m                                 Traceback (most recent call last)",
      "\u001b[1;32m<ipython-input-57-00d4cdfcc518>\u001b[0m in \u001b[0;36m<module>\u001b[1;34m\u001b[0m\n\u001b[1;32m----> 1\u001b[1;33m \u001b[0mcon\u001b[0m\u001b[1;33m=\u001b[0m\u001b[0mpymysql\u001b[0m\u001b[1;33m.\u001b[0m\u001b[0mconnect\u001b[0m\u001b[1;33m(\u001b[0m\u001b[0mhost\u001b[0m\u001b[1;33m=\u001b[0m\u001b[1;34m'localhost'\u001b[0m\u001b[1;33m,\u001b[0m\u001b[0muser\u001b[0m\u001b[1;33m=\u001b[0m\u001b[1;34m'root'\u001b[0m\u001b[1;33m,\u001b[0m\u001b[0mpassword\u001b[0m\u001b[1;33m=\u001b[0m\u001b[1;34m\"\"\u001b[0m\u001b[1;33m,\u001b[0m\u001b[0mdbname\u001b[0m\u001b[1;33m=\u001b[0m\u001b[1;34m\"resumeverification\"\u001b[0m\u001b[1;33m)\u001b[0m\u001b[1;33m\u001b[0m\u001b[1;33m\u001b[0m\u001b[0m\n\u001b[0m",
      "\u001b[1;32m~\\.conda\\envs\\GAN\\lib\\site-packages\\pymysql\\__init__.py\u001b[0m in \u001b[0;36mConnect\u001b[1;34m(*args, **kwargs)\u001b[0m\n\u001b[0;32m     92\u001b[0m     \"\"\"\n\u001b[0;32m     93\u001b[0m     \u001b[1;32mfrom\u001b[0m \u001b[1;33m.\u001b[0m\u001b[0mconnections\u001b[0m \u001b[1;32mimport\u001b[0m \u001b[0mConnection\u001b[0m\u001b[1;33m\u001b[0m\u001b[1;33m\u001b[0m\u001b[0m\n\u001b[1;32m---> 94\u001b[1;33m     \u001b[1;32mreturn\u001b[0m \u001b[0mConnection\u001b[0m\u001b[1;33m(\u001b[0m\u001b[1;33m*\u001b[0m\u001b[0margs\u001b[0m\u001b[1;33m,\u001b[0m \u001b[1;33m**\u001b[0m\u001b[0mkwargs\u001b[0m\u001b[1;33m)\u001b[0m\u001b[1;33m\u001b[0m\u001b[1;33m\u001b[0m\u001b[0m\n\u001b[0m\u001b[0;32m     95\u001b[0m \u001b[1;33m\u001b[0m\u001b[0m\n\u001b[0;32m     96\u001b[0m \u001b[1;32mfrom\u001b[0m \u001b[1;33m.\u001b[0m \u001b[1;32mimport\u001b[0m \u001b[0mconnections\u001b[0m \u001b[1;32mas\u001b[0m \u001b[0m_orig_conn\u001b[0m\u001b[1;33m\u001b[0m\u001b[1;33m\u001b[0m\u001b[0m\n",
      "\u001b[1;31mTypeError\u001b[0m: __init__() got an unexpected keyword argument 'dbname'"
     ]
    }
   ],
   "source": [
    "con=pymysql.connect(host='localhost',user='root',password=\"\",dbname=\"resumeverification\")"
   ]
  },
  {
   "cell_type": "code",
   "execution_count": null,
   "metadata": {},
   "outputs": [],
   "source": []
  }
 ],
 "metadata": {
  "kernelspec": {
   "display_name": "Python 3 (ipykernel)",
   "language": "python",
   "name": "python3"
  },
  "language_info": {
   "codemirror_mode": {
    "name": "ipython",
    "version": 3
   },
   "file_extension": ".py",
   "mimetype": "text/x-python",
   "name": "python",
   "nbconvert_exporter": "python",
   "pygments_lexer": "ipython3",
   "version": "3.7.11"
  }
 },
 "nbformat": 4,
 "nbformat_minor": 4
}
