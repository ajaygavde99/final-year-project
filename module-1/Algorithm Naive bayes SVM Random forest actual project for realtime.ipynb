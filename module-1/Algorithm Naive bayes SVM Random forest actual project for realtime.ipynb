{
 "cells": [
  {
   "cell_type": "code",
   "execution_count": 1,
   "metadata": {},
   "outputs": [],
   "source": [
    "import pandas as pd\n",
    "import numpy as np\n",
    "from nltk.tokenize import word_tokenize\n",
    "from nltk import pos_tag\n",
    "from nltk.corpus import stopwords\n",
    "from nltk.stem import WordNetLemmatizer\n",
    "from sklearn.preprocessing import LabelEncoder\n",
    "from collections import defaultdict\n",
    "from nltk.corpus import wordnet as wn\n",
    "from sklearn.feature_extraction.text import TfidfVectorizer\n",
    "from sklearn import model_selection, naive_bayes, svm\n",
    "from sklearn.metrics import accuracy_score\n",
    "import pickle"
   ]
  },
  {
   "cell_type": "code",
   "execution_count": 2,
   "metadata": {},
   "outputs": [
    {
     "name": "stderr",
     "output_type": "stream",
     "text": [
      "[nltk_data] Downloading collection 'all'\n",
      "[nltk_data]    | \n",
      "[nltk_data]    | Downloading package abc to\n",
      "[nltk_data]    |     C:\\Users\\ningesh\\AppData\\Roaming\\nltk_data...\n",
      "[nltk_data]    |   Package abc is already up-to-date!\n",
      "[nltk_data]    | Downloading package alpino to\n",
      "[nltk_data]    |     C:\\Users\\ningesh\\AppData\\Roaming\\nltk_data...\n",
      "[nltk_data]    |   Package alpino is already up-to-date!\n",
      "[nltk_data]    | Downloading package biocreative_ppi to\n",
      "[nltk_data]    |     C:\\Users\\ningesh\\AppData\\Roaming\\nltk_data...\n",
      "[nltk_data]    |   Package biocreative_ppi is already up-to-date!\n",
      "[nltk_data]    | Downloading package brown to\n",
      "[nltk_data]    |     C:\\Users\\ningesh\\AppData\\Roaming\\nltk_data...\n",
      "[nltk_data]    |   Package brown is already up-to-date!\n",
      "[nltk_data]    | Downloading package brown_tei to\n",
      "[nltk_data]    |     C:\\Users\\ningesh\\AppData\\Roaming\\nltk_data...\n",
      "[nltk_data]    |   Package brown_tei is already up-to-date!\n",
      "[nltk_data]    | Downloading package cess_cat to\n",
      "[nltk_data]    |     C:\\Users\\ningesh\\AppData\\Roaming\\nltk_data...\n",
      "[nltk_data]    |   Package cess_cat is already up-to-date!\n",
      "[nltk_data]    | Downloading package cess_esp to\n",
      "[nltk_data]    |     C:\\Users\\ningesh\\AppData\\Roaming\\nltk_data...\n",
      "[nltk_data]    |   Package cess_esp is already up-to-date!\n",
      "[nltk_data]    | Downloading package chat80 to\n",
      "[nltk_data]    |     C:\\Users\\ningesh\\AppData\\Roaming\\nltk_data...\n",
      "[nltk_data]    |   Package chat80 is already up-to-date!\n",
      "[nltk_data]    | Downloading package city_database to\n",
      "[nltk_data]    |     C:\\Users\\ningesh\\AppData\\Roaming\\nltk_data...\n",
      "[nltk_data]    |   Package city_database is already up-to-date!\n",
      "[nltk_data]    | Downloading package cmudict to\n",
      "[nltk_data]    |     C:\\Users\\ningesh\\AppData\\Roaming\\nltk_data...\n",
      "[nltk_data]    |   Package cmudict is already up-to-date!\n",
      "[nltk_data]    | Downloading package comparative_sentences to\n",
      "[nltk_data]    |     C:\\Users\\ningesh\\AppData\\Roaming\\nltk_data...\n",
      "[nltk_data]    |   Package comparative_sentences is already up-to-\n",
      "[nltk_data]    |       date!\n",
      "[nltk_data]    | Downloading package comtrans to\n",
      "[nltk_data]    |     C:\\Users\\ningesh\\AppData\\Roaming\\nltk_data...\n",
      "[nltk_data]    |   Package comtrans is already up-to-date!\n",
      "[nltk_data]    | Downloading package conll2000 to\n",
      "[nltk_data]    |     C:\\Users\\ningesh\\AppData\\Roaming\\nltk_data...\n",
      "[nltk_data]    |   Package conll2000 is already up-to-date!\n",
      "[nltk_data]    | Downloading package conll2002 to\n",
      "[nltk_data]    |     C:\\Users\\ningesh\\AppData\\Roaming\\nltk_data...\n",
      "[nltk_data]    |   Package conll2002 is already up-to-date!\n",
      "[nltk_data]    | Downloading package conll2007 to\n",
      "[nltk_data]    |     C:\\Users\\ningesh\\AppData\\Roaming\\nltk_data...\n",
      "[nltk_data]    |   Package conll2007 is already up-to-date!\n",
      "[nltk_data]    | Downloading package crubadan to\n",
      "[nltk_data]    |     C:\\Users\\ningesh\\AppData\\Roaming\\nltk_data...\n",
      "[nltk_data]    |   Package crubadan is already up-to-date!\n",
      "[nltk_data]    | Downloading package dependency_treebank to\n",
      "[nltk_data]    |     C:\\Users\\ningesh\\AppData\\Roaming\\nltk_data...\n",
      "[nltk_data]    |   Package dependency_treebank is already up-to-date!\n",
      "[nltk_data]    | Downloading package dolch to\n",
      "[nltk_data]    |     C:\\Users\\ningesh\\AppData\\Roaming\\nltk_data...\n",
      "[nltk_data]    |   Package dolch is already up-to-date!\n",
      "[nltk_data]    | Downloading package europarl_raw to\n",
      "[nltk_data]    |     C:\\Users\\ningesh\\AppData\\Roaming\\nltk_data...\n",
      "[nltk_data]    |   Package europarl_raw is already up-to-date!\n",
      "[nltk_data]    | Downloading package floresta to\n",
      "[nltk_data]    |     C:\\Users\\ningesh\\AppData\\Roaming\\nltk_data...\n",
      "[nltk_data]    |   Package floresta is already up-to-date!\n",
      "[nltk_data]    | Downloading package framenet_v15 to\n",
      "[nltk_data]    |     C:\\Users\\ningesh\\AppData\\Roaming\\nltk_data...\n",
      "[nltk_data]    |   Package framenet_v15 is already up-to-date!\n",
      "[nltk_data]    | Downloading package framenet_v17 to\n",
      "[nltk_data]    |     C:\\Users\\ningesh\\AppData\\Roaming\\nltk_data...\n",
      "[nltk_data]    |   Package framenet_v17 is already up-to-date!\n",
      "[nltk_data]    | Downloading package gazetteers to\n",
      "[nltk_data]    |     C:\\Users\\ningesh\\AppData\\Roaming\\nltk_data...\n",
      "[nltk_data]    |   Package gazetteers is already up-to-date!\n",
      "[nltk_data]    | Downloading package genesis to\n",
      "[nltk_data]    |     C:\\Users\\ningesh\\AppData\\Roaming\\nltk_data...\n",
      "[nltk_data]    |   Package genesis is already up-to-date!\n",
      "[nltk_data]    | Downloading package gutenberg to\n",
      "[nltk_data]    |     C:\\Users\\ningesh\\AppData\\Roaming\\nltk_data...\n",
      "[nltk_data]    |   Package gutenberg is already up-to-date!\n",
      "[nltk_data]    | Downloading package ieer to\n",
      "[nltk_data]    |     C:\\Users\\ningesh\\AppData\\Roaming\\nltk_data...\n",
      "[nltk_data]    |   Package ieer is already up-to-date!\n",
      "[nltk_data]    | Downloading package inaugural to\n",
      "[nltk_data]    |     C:\\Users\\ningesh\\AppData\\Roaming\\nltk_data...\n",
      "[nltk_data]    |   Package inaugural is already up-to-date!\n",
      "[nltk_data]    | Downloading package indian to\n",
      "[nltk_data]    |     C:\\Users\\ningesh\\AppData\\Roaming\\nltk_data...\n",
      "[nltk_data]    |   Package indian is already up-to-date!\n",
      "[nltk_data]    | Downloading package jeita to\n",
      "[nltk_data]    |     C:\\Users\\ningesh\\AppData\\Roaming\\nltk_data...\n",
      "[nltk_data]    |   Package jeita is already up-to-date!\n",
      "[nltk_data]    | Downloading package kimmo to\n",
      "[nltk_data]    |     C:\\Users\\ningesh\\AppData\\Roaming\\nltk_data...\n",
      "[nltk_data]    |   Package kimmo is already up-to-date!\n",
      "[nltk_data]    | Downloading package knbc to\n",
      "[nltk_data]    |     C:\\Users\\ningesh\\AppData\\Roaming\\nltk_data...\n",
      "[nltk_data]    |   Package knbc is already up-to-date!\n",
      "[nltk_data]    | Downloading package lin_thesaurus to\n",
      "[nltk_data]    |     C:\\Users\\ningesh\\AppData\\Roaming\\nltk_data...\n",
      "[nltk_data]    |   Package lin_thesaurus is already up-to-date!\n",
      "[nltk_data]    | Downloading package mac_morpho to\n",
      "[nltk_data]    |     C:\\Users\\ningesh\\AppData\\Roaming\\nltk_data...\n",
      "[nltk_data]    |   Package mac_morpho is already up-to-date!\n",
      "[nltk_data]    | Downloading package machado to\n",
      "[nltk_data]    |     C:\\Users\\ningesh\\AppData\\Roaming\\nltk_data...\n",
      "[nltk_data]    |   Package machado is already up-to-date!\n",
      "[nltk_data]    | Downloading package masc_tagged to\n",
      "[nltk_data]    |     C:\\Users\\ningesh\\AppData\\Roaming\\nltk_data...\n",
      "[nltk_data]    |   Package masc_tagged is already up-to-date!\n",
      "[nltk_data]    | Downloading package moses_sample to\n",
      "[nltk_data]    |     C:\\Users\\ningesh\\AppData\\Roaming\\nltk_data...\n",
      "[nltk_data]    |   Package moses_sample is already up-to-date!\n",
      "[nltk_data]    | Downloading package movie_reviews to\n",
      "[nltk_data]    |     C:\\Users\\ningesh\\AppData\\Roaming\\nltk_data...\n",
      "[nltk_data]    |   Package movie_reviews is already up-to-date!\n",
      "[nltk_data]    | Downloading package names to\n",
      "[nltk_data]    |     C:\\Users\\ningesh\\AppData\\Roaming\\nltk_data...\n",
      "[nltk_data]    |   Package names is already up-to-date!\n",
      "[nltk_data]    | Downloading package nombank.1.0 to\n",
      "[nltk_data]    |     C:\\Users\\ningesh\\AppData\\Roaming\\nltk_data...\n",
      "[nltk_data]    |   Package nombank.1.0 is already up-to-date!\n",
      "[nltk_data]    | Downloading package nps_chat to\n",
      "[nltk_data]    |     C:\\Users\\ningesh\\AppData\\Roaming\\nltk_data...\n",
      "[nltk_data]    |   Package nps_chat is already up-to-date!\n",
      "[nltk_data]    | Downloading package omw to\n",
      "[nltk_data]    |     C:\\Users\\ningesh\\AppData\\Roaming\\nltk_data...\n",
      "[nltk_data]    |   Package omw is already up-to-date!\n",
      "[nltk_data]    | Downloading package opinion_lexicon to\n",
      "[nltk_data]    |     C:\\Users\\ningesh\\AppData\\Roaming\\nltk_data...\n",
      "[nltk_data]    |   Package opinion_lexicon is already up-to-date!\n",
      "[nltk_data]    | Downloading package paradigms to\n",
      "[nltk_data]    |     C:\\Users\\ningesh\\AppData\\Roaming\\nltk_data...\n",
      "[nltk_data]    |   Package paradigms is already up-to-date!\n",
      "[nltk_data]    | Downloading package pil to\n",
      "[nltk_data]    |     C:\\Users\\ningesh\\AppData\\Roaming\\nltk_data...\n",
      "[nltk_data]    |   Package pil is already up-to-date!\n",
      "[nltk_data]    | Downloading package pl196x to\n",
      "[nltk_data]    |     C:\\Users\\ningesh\\AppData\\Roaming\\nltk_data...\n",
      "[nltk_data]    |   Package pl196x is already up-to-date!\n",
      "[nltk_data]    | Downloading package ppattach to\n",
      "[nltk_data]    |     C:\\Users\\ningesh\\AppData\\Roaming\\nltk_data...\n",
      "[nltk_data]    |   Package ppattach is already up-to-date!\n",
      "[nltk_data]    | Downloading package problem_reports to\n",
      "[nltk_data]    |     C:\\Users\\ningesh\\AppData\\Roaming\\nltk_data...\n",
      "[nltk_data]    |   Package problem_reports is already up-to-date!\n",
      "[nltk_data]    | Downloading package propbank to\n",
      "[nltk_data]    |     C:\\Users\\ningesh\\AppData\\Roaming\\nltk_data...\n",
      "[nltk_data]    |   Package propbank is already up-to-date!\n",
      "[nltk_data]    | Downloading package ptb to\n",
      "[nltk_data]    |     C:\\Users\\ningesh\\AppData\\Roaming\\nltk_data...\n",
      "[nltk_data]    |   Package ptb is already up-to-date!\n",
      "[nltk_data]    | Downloading package product_reviews_1 to\n",
      "[nltk_data]    |     C:\\Users\\ningesh\\AppData\\Roaming\\nltk_data...\n",
      "[nltk_data]    |   Package product_reviews_1 is already up-to-date!\n",
      "[nltk_data]    | Downloading package product_reviews_2 to\n",
      "[nltk_data]    |     C:\\Users\\ningesh\\AppData\\Roaming\\nltk_data...\n",
      "[nltk_data]    |   Package product_reviews_2 is already up-to-date!\n",
      "[nltk_data]    | Downloading package pros_cons to\n",
      "[nltk_data]    |     C:\\Users\\ningesh\\AppData\\Roaming\\nltk_data...\n",
      "[nltk_data]    |   Package pros_cons is already up-to-date!\n",
      "[nltk_data]    | Downloading package qc to\n",
      "[nltk_data]    |     C:\\Users\\ningesh\\AppData\\Roaming\\nltk_data...\n",
      "[nltk_data]    |   Package qc is already up-to-date!\n",
      "[nltk_data]    | Downloading package reuters to\n",
      "[nltk_data]    |     C:\\Users\\ningesh\\AppData\\Roaming\\nltk_data...\n",
      "[nltk_data]    |   Package reuters is already up-to-date!\n",
      "[nltk_data]    | Downloading package rte to\n",
      "[nltk_data]    |     C:\\Users\\ningesh\\AppData\\Roaming\\nltk_data...\n",
      "[nltk_data]    |   Package rte is already up-to-date!\n",
      "[nltk_data]    | Downloading package semcor to\n",
      "[nltk_data]    |     C:\\Users\\ningesh\\AppData\\Roaming\\nltk_data...\n",
      "[nltk_data]    |   Package semcor is already up-to-date!\n",
      "[nltk_data]    | Downloading package senseval to\n",
      "[nltk_data]    |     C:\\Users\\ningesh\\AppData\\Roaming\\nltk_data...\n",
      "[nltk_data]    |   Package senseval is already up-to-date!\n",
      "[nltk_data]    | Downloading package sentiwordnet to\n",
      "[nltk_data]    |     C:\\Users\\ningesh\\AppData\\Roaming\\nltk_data...\n",
      "[nltk_data]    |   Package sentiwordnet is already up-to-date!\n",
      "[nltk_data]    | Downloading package sentence_polarity to\n",
      "[nltk_data]    |     C:\\Users\\ningesh\\AppData\\Roaming\\nltk_data...\n",
      "[nltk_data]    |   Package sentence_polarity is already up-to-date!\n",
      "[nltk_data]    | Downloading package shakespeare to\n",
      "[nltk_data]    |     C:\\Users\\ningesh\\AppData\\Roaming\\nltk_data...\n"
     ]
    },
    {
     "name": "stderr",
     "output_type": "stream",
     "text": [
      "[nltk_data]    |   Package shakespeare is already up-to-date!\n",
      "[nltk_data]    | Downloading package sinica_treebank to\n",
      "[nltk_data]    |     C:\\Users\\ningesh\\AppData\\Roaming\\nltk_data...\n",
      "[nltk_data]    |   Package sinica_treebank is already up-to-date!\n",
      "[nltk_data]    | Downloading package smultron to\n",
      "[nltk_data]    |     C:\\Users\\ningesh\\AppData\\Roaming\\nltk_data...\n",
      "[nltk_data]    |   Package smultron is already up-to-date!\n",
      "[nltk_data]    | Downloading package state_union to\n",
      "[nltk_data]    |     C:\\Users\\ningesh\\AppData\\Roaming\\nltk_data...\n",
      "[nltk_data]    |   Package state_union is already up-to-date!\n",
      "[nltk_data]    | Downloading package stopwords to\n",
      "[nltk_data]    |     C:\\Users\\ningesh\\AppData\\Roaming\\nltk_data...\n",
      "[nltk_data]    |   Package stopwords is already up-to-date!\n",
      "[nltk_data]    | Downloading package subjectivity to\n",
      "[nltk_data]    |     C:\\Users\\ningesh\\AppData\\Roaming\\nltk_data...\n",
      "[nltk_data]    |   Package subjectivity is already up-to-date!\n",
      "[nltk_data]    | Downloading package swadesh to\n",
      "[nltk_data]    |     C:\\Users\\ningesh\\AppData\\Roaming\\nltk_data...\n",
      "[nltk_data]    |   Package swadesh is already up-to-date!\n",
      "[nltk_data]    | Downloading package switchboard to\n",
      "[nltk_data]    |     C:\\Users\\ningesh\\AppData\\Roaming\\nltk_data...\n",
      "[nltk_data]    |   Package switchboard is already up-to-date!\n",
      "[nltk_data]    | Downloading package timit to\n",
      "[nltk_data]    |     C:\\Users\\ningesh\\AppData\\Roaming\\nltk_data...\n",
      "[nltk_data]    |   Package timit is already up-to-date!\n",
      "[nltk_data]    | Downloading package toolbox to\n",
      "[nltk_data]    |     C:\\Users\\ningesh\\AppData\\Roaming\\nltk_data...\n",
      "[nltk_data]    |   Package toolbox is already up-to-date!\n",
      "[nltk_data]    | Downloading package treebank to\n",
      "[nltk_data]    |     C:\\Users\\ningesh\\AppData\\Roaming\\nltk_data...\n",
      "[nltk_data]    |   Package treebank is already up-to-date!\n",
      "[nltk_data]    | Downloading package twitter_samples to\n",
      "[nltk_data]    |     C:\\Users\\ningesh\\AppData\\Roaming\\nltk_data...\n",
      "[nltk_data]    |   Package twitter_samples is already up-to-date!\n",
      "[nltk_data]    | Downloading package udhr to\n",
      "[nltk_data]    |     C:\\Users\\ningesh\\AppData\\Roaming\\nltk_data...\n",
      "[nltk_data]    |   Package udhr is already up-to-date!\n",
      "[nltk_data]    | Downloading package udhr2 to\n",
      "[nltk_data]    |     C:\\Users\\ningesh\\AppData\\Roaming\\nltk_data...\n",
      "[nltk_data]    |   Package udhr2 is already up-to-date!\n",
      "[nltk_data]    | Downloading package unicode_samples to\n",
      "[nltk_data]    |     C:\\Users\\ningesh\\AppData\\Roaming\\nltk_data...\n",
      "[nltk_data]    |   Package unicode_samples is already up-to-date!\n",
      "[nltk_data]    | Downloading package universal_treebanks_v20 to\n",
      "[nltk_data]    |     C:\\Users\\ningesh\\AppData\\Roaming\\nltk_data...\n",
      "[nltk_data]    |   Package universal_treebanks_v20 is already up-to-\n",
      "[nltk_data]    |       date!\n",
      "[nltk_data]    | Downloading package verbnet to\n",
      "[nltk_data]    |     C:\\Users\\ningesh\\AppData\\Roaming\\nltk_data...\n",
      "[nltk_data]    |   Package verbnet is already up-to-date!\n",
      "[nltk_data]    | Downloading package verbnet3 to\n",
      "[nltk_data]    |     C:\\Users\\ningesh\\AppData\\Roaming\\nltk_data...\n",
      "[nltk_data]    |   Package verbnet3 is already up-to-date!\n",
      "[nltk_data]    | Downloading package webtext to\n",
      "[nltk_data]    |     C:\\Users\\ningesh\\AppData\\Roaming\\nltk_data...\n",
      "[nltk_data]    |   Package webtext is already up-to-date!\n",
      "[nltk_data]    | Downloading package wordnet to\n",
      "[nltk_data]    |     C:\\Users\\ningesh\\AppData\\Roaming\\nltk_data...\n",
      "[nltk_data]    |   Package wordnet is already up-to-date!\n",
      "[nltk_data]    | Downloading package wordnet_ic to\n",
      "[nltk_data]    |     C:\\Users\\ningesh\\AppData\\Roaming\\nltk_data...\n",
      "[nltk_data]    |   Package wordnet_ic is already up-to-date!\n",
      "[nltk_data]    | Downloading package words to\n",
      "[nltk_data]    |     C:\\Users\\ningesh\\AppData\\Roaming\\nltk_data...\n",
      "[nltk_data]    |   Package words is already up-to-date!\n",
      "[nltk_data]    | Downloading package ycoe to\n",
      "[nltk_data]    |     C:\\Users\\ningesh\\AppData\\Roaming\\nltk_data...\n",
      "[nltk_data]    |   Package ycoe is already up-to-date!\n",
      "[nltk_data]    | Downloading package rslp to\n",
      "[nltk_data]    |     C:\\Users\\ningesh\\AppData\\Roaming\\nltk_data...\n",
      "[nltk_data]    |   Package rslp is already up-to-date!\n",
      "[nltk_data]    | Downloading package maxent_treebank_pos_tagger to\n",
      "[nltk_data]    |     C:\\Users\\ningesh\\AppData\\Roaming\\nltk_data...\n",
      "[nltk_data]    |   Package maxent_treebank_pos_tagger is already up-\n",
      "[nltk_data]    |       to-date!\n",
      "[nltk_data]    | Downloading package universal_tagset to\n",
      "[nltk_data]    |     C:\\Users\\ningesh\\AppData\\Roaming\\nltk_data...\n",
      "[nltk_data]    |   Package universal_tagset is already up-to-date!\n",
      "[nltk_data]    | Downloading package maxent_ne_chunker to\n",
      "[nltk_data]    |     C:\\Users\\ningesh\\AppData\\Roaming\\nltk_data...\n",
      "[nltk_data]    |   Package maxent_ne_chunker is already up-to-date!\n",
      "[nltk_data]    | Downloading package punkt to\n",
      "[nltk_data]    |     C:\\Users\\ningesh\\AppData\\Roaming\\nltk_data...\n",
      "[nltk_data]    |   Package punkt is already up-to-date!\n",
      "[nltk_data]    | Downloading package book_grammars to\n",
      "[nltk_data]    |     C:\\Users\\ningesh\\AppData\\Roaming\\nltk_data...\n",
      "[nltk_data]    |   Package book_grammars is already up-to-date!\n",
      "[nltk_data]    | Downloading package sample_grammars to\n",
      "[nltk_data]    |     C:\\Users\\ningesh\\AppData\\Roaming\\nltk_data...\n",
      "[nltk_data]    |   Package sample_grammars is already up-to-date!\n",
      "[nltk_data]    | Downloading package spanish_grammars to\n",
      "[nltk_data]    |     C:\\Users\\ningesh\\AppData\\Roaming\\nltk_data...\n",
      "[nltk_data]    |   Package spanish_grammars is already up-to-date!\n",
      "[nltk_data]    | Downloading package basque_grammars to\n",
      "[nltk_data]    |     C:\\Users\\ningesh\\AppData\\Roaming\\nltk_data...\n",
      "[nltk_data]    |   Package basque_grammars is already up-to-date!\n",
      "[nltk_data]    | Downloading package large_grammars to\n",
      "[nltk_data]    |     C:\\Users\\ningesh\\AppData\\Roaming\\nltk_data...\n",
      "[nltk_data]    |   Package large_grammars is already up-to-date!\n",
      "[nltk_data]    | Downloading package tagsets to\n",
      "[nltk_data]    |     C:\\Users\\ningesh\\AppData\\Roaming\\nltk_data...\n",
      "[nltk_data]    |   Package tagsets is already up-to-date!\n",
      "[nltk_data]    | Downloading package snowball_data to\n",
      "[nltk_data]    |     C:\\Users\\ningesh\\AppData\\Roaming\\nltk_data...\n",
      "[nltk_data]    |   Package snowball_data is already up-to-date!\n",
      "[nltk_data]    | Downloading package bllip_wsj_no_aux to\n",
      "[nltk_data]    |     C:\\Users\\ningesh\\AppData\\Roaming\\nltk_data...\n",
      "[nltk_data]    |   Package bllip_wsj_no_aux is already up-to-date!\n",
      "[nltk_data]    | Downloading package word2vec_sample to\n",
      "[nltk_data]    |     C:\\Users\\ningesh\\AppData\\Roaming\\nltk_data...\n",
      "[nltk_data]    |   Package word2vec_sample is already up-to-date!\n",
      "[nltk_data]    | Downloading package panlex_swadesh to\n",
      "[nltk_data]    |     C:\\Users\\ningesh\\AppData\\Roaming\\nltk_data...\n",
      "[nltk_data]    |   Package panlex_swadesh is already up-to-date!\n",
      "[nltk_data]    | Downloading package mte_teip5 to\n",
      "[nltk_data]    |     C:\\Users\\ningesh\\AppData\\Roaming\\nltk_data...\n",
      "[nltk_data]    |   Package mte_teip5 is already up-to-date!\n",
      "[nltk_data]    | Downloading package averaged_perceptron_tagger to\n",
      "[nltk_data]    |     C:\\Users\\ningesh\\AppData\\Roaming\\nltk_data...\n",
      "[nltk_data]    |   Package averaged_perceptron_tagger is already up-\n",
      "[nltk_data]    |       to-date!\n",
      "[nltk_data]    | Downloading package averaged_perceptron_tagger_ru to\n",
      "[nltk_data]    |     C:\\Users\\ningesh\\AppData\\Roaming\\nltk_data...\n",
      "[nltk_data]    |   Package averaged_perceptron_tagger_ru is already\n",
      "[nltk_data]    |       up-to-date!\n",
      "[nltk_data]    | Downloading package perluniprops to\n",
      "[nltk_data]    |     C:\\Users\\ningesh\\AppData\\Roaming\\nltk_data...\n",
      "[nltk_data]    |   Package perluniprops is already up-to-date!\n",
      "[nltk_data]    | Downloading package nonbreaking_prefixes to\n",
      "[nltk_data]    |     C:\\Users\\ningesh\\AppData\\Roaming\\nltk_data...\n",
      "[nltk_data]    |   Package nonbreaking_prefixes is already up-to-date!\n",
      "[nltk_data]    | Downloading package vader_lexicon to\n",
      "[nltk_data]    |     C:\\Users\\ningesh\\AppData\\Roaming\\nltk_data...\n",
      "[nltk_data]    |   Package vader_lexicon is already up-to-date!\n",
      "[nltk_data]    | Downloading package porter_test to\n",
      "[nltk_data]    |     C:\\Users\\ningesh\\AppData\\Roaming\\nltk_data...\n",
      "[nltk_data]    |   Package porter_test is already up-to-date!\n",
      "[nltk_data]    | Downloading package wmt15_eval to\n",
      "[nltk_data]    |     C:\\Users\\ningesh\\AppData\\Roaming\\nltk_data...\n",
      "[nltk_data]    |   Package wmt15_eval is already up-to-date!\n",
      "[nltk_data]    | Downloading package mwa_ppdb to\n",
      "[nltk_data]    |     C:\\Users\\ningesh\\AppData\\Roaming\\nltk_data...\n"
     ]
    },
    {
     "name": "stderr",
     "output_type": "stream",
     "text": [
      "[nltk_data]    |   Package mwa_ppdb is already up-to-date!\n",
      "[nltk_data]    | \n",
      "[nltk_data]  Done downloading collection all\n"
     ]
    },
    {
     "data": {
      "text/plain": [
       "True"
      ]
     },
     "execution_count": 2,
     "metadata": {},
     "output_type": "execute_result"
    }
   ],
   "source": [
    "import nltk\n",
    "nltk.download('all')"
   ]
  },
  {
   "cell_type": "code",
   "execution_count": 3,
   "metadata": {},
   "outputs": [],
   "source": [
    "from sklearn.metrics import precision_score\n",
    "from sklearn.metrics import recall_score\n",
    "from sklearn.metrics import f1_score"
   ]
  },
  {
   "cell_type": "code",
   "execution_count": 4,
   "metadata": {},
   "outputs": [],
   "source": [
    "np.random.seed(500)"
   ]
  },
  {
   "cell_type": "code",
   "execution_count": 8,
   "metadata": {},
   "outputs": [],
   "source": [
    "Corpus = pd.read_csv(r\"personalityData.csv\",encoding='latin-1',nrows=10,error_bad_lines=False)"
   ]
  },
  {
   "cell_type": "code",
   "execution_count": null,
   "metadata": {},
   "outputs": [],
   "source": []
  },
  {
   "cell_type": "code",
   "execution_count": 9,
   "metadata": {},
   "outputs": [],
   "source": [
    "# Step - a : Remove blank rows if any.\n",
    "Corpus['text'].dropna(inplace=True)\n",
    "# Step - b : Change all the text to lower case. This is required as python interprets 'dog' and 'DOG' differently\n",
    "Corpus['text'] = [entry.lower() for entry in Corpus['text']]\n",
    "# Step - c : Tokenization : In this each entry in the corpus will be broken into set of words\n",
    "Corpus['text']= [word_tokenize(entry) for entry in Corpus['text']]\n",
    "# Step - d : Remove Stop words, Non-Numeric and perfom Word Stemming/Lemmenting.\n",
    "# WordNetLemmatizer requires Pos tags to understand if the word is noun or verb or adjective etc. By default it is set to Noun\n",
    "tag_map = defaultdict(lambda : wn.NOUN)\n",
    "tag_map['J'] = wn.ADJ\n",
    "tag_map['V'] = wn.VERB\n",
    "tag_map['R'] = wn.ADV\n",
    "for index,entry in enumerate(Corpus['text']):\n",
    "    # Declaring Empty List to store the words that follow the rules for this step\n",
    "    Final_words = []\n",
    "    # Initializing WordNetLemmatizer()\n",
    "    word_Lemmatized = WordNetLemmatizer()\n",
    "    # pos_tag function below will provide the 'tag' i.e if the word is Noun(N) or Verb(V) or something else.\n",
    "    for word, tag in pos_tag(entry):\n",
    "        # Below condition is to check for Stop words and consider only alphabets\n",
    "        if word not in stopwords.words('english') and word.isalpha():\n",
    "            word_Final = word_Lemmatized.lemmatize(word,tag_map[tag[0]])\n",
    "            Final_words.append(word_Final)\n",
    "    # The final processed set of words for each iteration will be stored in 'text_final'\n",
    "    Corpus.loc[index,'text_final'] = str(Final_words)"
   ]
  },
  {
   "cell_type": "code",
   "execution_count": 10,
   "metadata": {},
   "outputs": [],
   "source": [
    "Train_X, Test_X, Train_Y, Test_Y = model_selection.train_test_split(Corpus['text_final'],Corpus['label'],test_size=0.3)"
   ]
  },
  {
   "cell_type": "code",
   "execution_count": 11,
   "metadata": {},
   "outputs": [],
   "source": [
    "Encoder = LabelEncoder()\n",
    "Train_Y = Encoder.fit_transform(Train_Y)\n",
    "Test_Y = Encoder.fit_transform(Test_Y)"
   ]
  },
  {
   "cell_type": "code",
   "execution_count": 12,
   "metadata": {},
   "outputs": [],
   "source": [
    "listofclasses=list(Encoder.classes_)\n",
    "listofclasses\n",
    "algorithmname=[]\n",
    "algoaccuracy=[]"
   ]
  },
  {
   "cell_type": "code",
   "execution_count": 13,
   "metadata": {},
   "outputs": [],
   "source": [
    "Tfidf_vect = TfidfVectorizer(max_features=5000)\n",
    "Tfidf_vect.fit(Corpus['text_final'])\n",
    "Train_X_Tfidf = Tfidf_vect.transform(Train_X)\n",
    "Test_X_Tfidf = Tfidf_vect.transform(Test_X)"
   ]
  },
  {
   "cell_type": "code",
   "execution_count": 14,
   "metadata": {},
   "outputs": [
    {
     "data": {
      "text/plain": [
       "<7x1894 sparse matrix of type '<class 'numpy.float64'>'\n",
       "\twith 2300 stored elements in Compressed Sparse Row format>"
      ]
     },
     "execution_count": 14,
     "metadata": {},
     "output_type": "execute_result"
    }
   ],
   "source": [
    "Train_X_Tfidf"
   ]
  },
  {
   "cell_type": "code",
   "execution_count": null,
   "metadata": {},
   "outputs": [],
   "source": []
  },
  {
   "cell_type": "code",
   "execution_count": 15,
   "metadata": {},
   "outputs": [
    {
     "name": "stdout",
     "output_type": "stream",
     "text": [
      "{'intj': 894, 'moment': 1097, 'http': 815, 'sportscenter': 1579, 'top': 1717, 'ten': 1678, 'play': 1261, 'experience': 586, 'life': 986, 'repeat': 1400, 'perc': 1234, 'immerse': 840, 'last': 958, 'thing': 1693, 'infj': 860, 'friend': 679, 'post': 1286, 'facebook': 605, 'commit': 315, 'suicide': 1632, 'next': 1148, 'day': 401, 'rest': 1411, 'sorry': 1564, 'hear': 773, 'distress': 468, 'natural': 1134, 'relationship': 1387, 'perfection': 1238, 'time': 1709, 'every': 571, 'existence': 582, 'try': 1741, 'figure': 638, 'hard': 760, 'growth': 738, 'game': 695, 'set': 1482, 'wellbrutin': 1833, 'least': 973, 'thirty': 1696, 'minute': 1085, 'move': 1109, 'leg': 976, 'mean': 1060, 'sit': 1524, 'desk': 432, 'chair': 258, 'weed': 1828, 'moderation': 1094, 'maybe': 1055, 'edible': 511, 'healthier': 771, 'alternative': 58, 'come': 310, 'three': 1702, 'item': 913, 'determine': 438, 'type': 1747, 'whichever': 1841, 'want': 1818, 'would': 1871, 'likely': 988, 'use': 1776, 'give': 711, 'cognitive': 305, 'function': 689, 'whatnot': 1836, 'leave': 974, 'sims': 1517, 'indeed': 853, 'video': 1798, 'good': 718, 'one': 1186, 'note': 1162, 'somewhat': 1561, 'subjective': 1624, 'completely': 321, 'promote': 1318, 'death': 405, 'sim': 1512, 'enfp': 541, 'favorite': 622, 'grow': 737, 'current': 389, 'cool': 355, 'appear': 92, 'late': 959, 'sad': 1440, 'someone': 1558, 'think': 1694, 'confidence': 334, 'cherish': 274, 'solitude': 1552, 'revel': 1415, 'within': 1856, 'inner': 869, 'world': 1867, 'whereas': 1838, 'workin': 1866, 'enjoy': 543, 'worry': 1868, 'people': 1233, 'always': 62, 'around': 104, 'entp': 550, 'lady': 954, 'complimentary': 326, 'personality': 1245, 'well': 1831, 'main': 1031, 'social': 1543, 'outlet': 1199, 'xbox': 1877, 'live': 999, 'conversation': 351, 'even': 569, 'verbally': 1794, 'fatigue': 620, 'really': 1366, 'dig': 448, 'part': 1216, 'thread': 1701, 'require': 1404, 'high': 788, 'backyard': 148, 'roast': 1423, 'eat': 507, 'marshmellows': 1044, 'converse': 352, 'something': 1559, 'intellectual': 880, 'follow': 664, 'massage': 1046, 'many': 1039, 'sentence': 1477, 'could': 361, 'watch': 1822, 'movie': 1111, 'corner': 358, 'health': 770, 'class': 292, 'clearly': 294, 'teach': 1668, 'nothing': 1163, 'peer': 1232, 'whole': 1845, 'host': 810, 'reason': 1368, 'two': 1746, 'baby': 144, 'deer': 412, 'left': 975, 'right': 1420, 'munching': 1117, 'beetle': 171, 'middle': 1081, 'blood': 199, 'caveman': 254, 'diary': 442, 'today': 1710, 'happening': 756, 'designate': 430, 'cave': 253, 'wall': 1813, 'see': 1466, 'pokemon': 1270, 'society': 1545, 'everyone': 573, 'become': 167, 'artist': 106, 'draw': 489, 'idea': 827, 'count': 362, 'form': 669, 'like': 987, 'robot': 1426, 'rank': 1347, 'person': 1243, 'down': 484, 'cuz': 391, 'avid': 133, 'signature': 1509, 'proud': 1321, 'take': 1658, 'room': 1431, 'bed': 169, 'ya': 1881, 'get': 706, 'ta': 1656, 'learn': 972, 'share': 1489, 'much': 1114, 'thundering': 1705, 'grumble': 739, 'kind': 943, 'storm': 1607, 'old': 1184, 'school': 1455, 'music': 1120, 'age': 38, 'fail': 608, 'public': 1326, 'speaking': 1571, 'year': 1883, 'ago': 40, 'sort': 1565, 'position': 1280, 'big': 188, 'failure': 609, 'overload': 1204, 'mentality': 1071, 'confirmed': 336, 'way': 1824, 'denver': 421, 'area': 100, 'start': 1590, 'new': 1147, 'find': 642, 'lack': 953, 'bore': 206, 'often': 1181, 'example': 578, 'girlfriend': 709, 'currently': 390, 'environment': 552, 'creatively': 375, 'cowgirl': 369, 'missionary': 1088, 'enough': 544, 'meaning': 1061, 'grin': 733, 'flirt': 655, 'acknowledge': 17, 'presence': 1298, 'return': 1413, 'word': 1863, 'smooth': 1540, 'wordplay': 1864, 'cheeky': 270, 'balance': 152, 'hand': 752, 'eye': 603, 'iq': 905, 'test': 1685, 'score': 1458, 'internet': 887, 'funny': 690, 'former': 671, 'response': 1410, 'mention': 1073, 'believe': 179, 'banish': 155, 'know': 949, 'vanish': 1787, 'site': 1525, 'half': 751, 'still': 1600, 'comment': 314, 'sometimes': 1560, 'go': 715, 'sherlock': 1492, 'holmes': 799, 'quote': 1341, 'perhaps': 1240, 'man': 1034, 'special': 1572, 'knowledge': 950, 'power': 1292, 'rather': 1352, 'encourage': 536, 'seek': 1467, 'complex': 323, 'never': 1146, 'real': 1361, 'judge': 930, 'ne': 1137, 'ti': 1706, 'dominates': 476, 'fe': 624, 'emotion': 528, 'rarely': 1350, 'si': 1505, 'also': 57, 'ni': 1149, 'due': 499, 'strength': 1613, 'though': 1698, 'ingenious': 866, 'say': 1448, 'happen': 755, 'first': 647, 'shooter': 1498, 'back': 145, 'drive': 494, 'look': 1009, 'rock': 1427, 'paper': 1213, 'best': 184, 'make': 1032, 'lol': 1005, 'guy': 746, 'lucky': 1022, 'tumblr': 1742, 'hell': 780, 'soundtrack': 1568, 'auto': 130, 'sound': 1567, 'equipment': 557, 'shake': 1487, 'heaven': 776, 'manage': 1035, 'put': 1332, 'couple': 366, 'connect': 339, 'aware': 137, 'se': 1461, 'shawn': 1490, 'spencer': 1577, 'patrick': 1226, 'jane': 917, 'charlie': 266, 'admit': 29, 'jealous': 919, 'chalk': 259, 'heart': 775, 'mixed': 1090, 'dominate': 475, 'notice': 1164, 'upload': 1773, 'clip': 297, 'mic': 1079, 'away': 139, 'mouth': 1108, 'wo': 1858, 'anything': 84, 'ninja': 1155, 'assassin': 112, 'style': 1621, 'tok': 1713, 'great': 730, 'song': 1563, 'long': 1007, 'mental': 1070, 'block': 198, 'singer': 1521, 'love': 1017, 'beat': 165, 'close': 298, 'smokin': 1539, 'ace': 14, 'ball': 153, 'extrovert': 602, 'sociable': 1542, 'normally': 1161, 'extj': 596, 'book': 205, 'estj': 567, 'except': 580, 'call': 239, 'fear': 625, 'kiss': 945, 'animal': 73, 'personal': 1244, 'taste': 1666, 'pretty': 1301, 'problem': 1308, 'operate': 1191, 'impression': 846, 'female': 632, 'boxy': 212, 'okay': 1183, 'help': 781, 'gay': 700, 'develop': 439, 'little': 998, 'crush': 384, 'red': 1376, 'describe': 427, 'bad': 149, 'nightmare': 1153, 'trap': 1729, 'place': 1257, 'dull': 500, 'wood': 1862, 'serial': 1478, 'killer': 941, 'perfect': 1237, 'sadly': 1441, 'bias': 187, 'shadowed': 1486, 'infp': 864, 'hurt': 825, 'turn': 1743, 'tell': 1676, 'typical': 1748, 'trait': 1727, 'check': 268, 'list': 994, 'seem': 1468, 'already': 56, 'reach': 1355, 'quota': 1340, 'infjs': 861, 'however': 813, 'deal': 404, 'kick': 939, 'antp': 80, 'lean': 971, 'toward': 1723, 'easy': 506, 'entps': 551, 'intps': 897, 'identify': 829, 'imagine': 837, 'interrogation': 891, 'bit': 193, 'jack': 914, 'mechanical': 1062, 'rig': 1419, 'shock': 1495, 'treatment': 1732, 'abandon': 0, 'building': 230, 'car': 245, 'batty': 162, 'jumper': 934, 'compliment': 325, 'trust': 1739, 'psychopathic': 1325, 'emoticon': 527, 'weird': 1830, 'laugh': 962, 'run': 1436, 'lawn': 966, 'mower': 1112, 'theme': 1690, 'usual': 1779, 'end': 537, 'work': 1865, 'mine': 1084, 'mbp': 1058, 'pleasure': 1263, 'meet': 1064, 'need': 1141, 'instinct': 878, 'respond': 1409, 'lesbian': 979, 'bow': 210, 'master': 1048, 'able': 2, 'build': 229, 'duck': 498, 'lose': 1014, 'pat': 1222, 'awesome': 141, 'stupid': 1620, 'neuropsychology': 1144, 'psychologist': 1323, 'nightowl': 1154, 'wake': 1811, 'stay': 1595, 'awake': 136, 'till': 1708, 'opinion': 1192, 'theory': 1691, 'suggest': 1631, 'socially': 1544, 'difficult': 447, 'intjs': 895, 'indifferent': 858, 'situation': 1527, 'arise': 102, 'stock': 1601, 'desktop': 433, 'download': 485, 'random': 1345, 'open': 1189, 'photoshop': 1248, 'glad': 712, 'several': 1483, 'hour': 811, 'construct': 343, 'line': 990, 'static': 1593, 'avatar': 132, 'later': 961, 'fellow': 630, 'teammate': 1670, 'keep': 937, 'diagnosis': 441, 'toy': 1725, 'course': 367, 'blessing': 197, 'absolutely': 6, 'positive': 1281, 'amazing': 63, 'yes': 1886, 'madly': 1027, 'case': 249, 'reconcile': 1375, 'feeling': 628, 'thank': 1687, 'link': 991, 'loop': 1012, 'stem': 1597, 'deadly': 403, 'stick': 1599, 'thought': 1699, 'mind': 1083, 'wanders': 1817, 'circle': 289, 'feel': 626, 'truly': 1738, 'terrible': 1682, 'peculiar': 1231, 'vegetation': 1791, 'grass': 726, 'dozen': 486, 'different': 446, 'plant': 1260, 'specie': 1573, 'hundred': 823, 'soil': 1550, 'smith': 1537, 'spot': 1580, 'face': 604, 'marble': 1041, 'incredibly': 851, 'accurate': 13, 'beautiful': 166, 'visit': 1804, 'website': 1826, 'whoever': 1844, 'read': 1358, 'remembers': 1396, 'highly': 790, 'doubt': 482, 'hi': 786, 'garden': 697, 'pm': 1267, 'write': 1873, 'sing': 1520, 'together': 1712, 'cricket': 378, 'acoustic': 18, 'ever': 570, 'painting': 1210, 'entire': 546, 'pick': 1250, 'human': 819, 'background': 146, 'animation': 74, 'mar': 1040, 'felt': 631, 'obligate': 1169, 'mark': 1042, 'postcard': 1287, 'comic': 313, 'turtle': 1744, 'gordon': 722, 'unicorn': 1762, 'chime': 280, 'story': 1609, 'recently': 1372, 'stuff': 1618, 'interest': 883, 'include': 849, 'model': 1092, 'expert': 587, 'abrupt': 3, 'explosion': 591, 'laughter': 964, 'upon': 1774, 'various': 1789, 'sense': 1474, 'humor': 821, 'nah': 1127, 'touch': 1721, 'scar': 1450, 'true': 1737, 'fact': 607, 'neutral': 1145, 'kitten': 947, 'actually': 23, 'likes': 989, 'patting': 1228, 'hug': 816, 'convey': 353, 'pop': 1276, 'head': 769, 'whimsical': 1842, 'compilation': 320, 'shape': 1488, 'picture': 1251, 'appropriate': 96, 'night': 1152, 'morning': 1102, 'supersede': 1639, 'order': 1195, 'hope': 805, 'sleep': 1533, 'air': 46, 'anyway': 86, 'wish': 1855, 'ahead': 44, 'hopefully': 806, 'land': 955, 'deserve': 428, 'may': 1054, 'wonder': 1860, 'issue': 910, 'name': 1130, 'topic': 1718, 'helpful': 782, 'finally': 640, 'maze': 1057, 'pattern': 1227, 'amuse': 67, 'handy': 753, 'skill': 1529, 'pity': 1255, 'sacrifice': 1439, 'supermarket': 1637, 'decide': 408, 'walmart': 1814, 'fire': 646, 'delicious': 419, 'tofu': 1711, 'waste': 1821, 'creator': 376, 'care': 246, 'understand': 1755, 'language': 956, 'adventure': 33, 'angry': 72, 'quite': 1339, 'safe': 1443, 'surround': 1643, 'somewhere': 1562, 'else': 523, 'impossible': 843, 'hide': 787, 'suppress': 1640, 'anger': 71, 'rid': 1417, 'burst': 233, 'fake': 610, 'choose': 283, 'chosen': 284, 'comfortable': 312, 'race': 1342, 'survive': 1645, 'thankfully': 1688, 'woman': 1859, 'ability': 1, 'birth': 192, 'being': 177, 'thousand': 1700, 'change': 262, 'besides': 183, 'occur': 1175, 'result': 1412, 'extremely': 601, 'precise': 1294, 'elaborate': 521, 'online': 1187, 'basis': 161, 'visual': 1805, 'art': 105, 'study': 1617, 'graphic': 725, 'design': 429, 'field': 636, 'generate': 705, 'solve': 1555, 'important': 842, 'possession': 1282, 'specific': 1574, 'ready': 1360, 'discipline': 455, 'intimidate': 893, 'sibling': 1506, 'domination': 477, 'shoot': 1497, 'oh': 1182, 'must': 1122, 'characterise': 264, 'show': 1503, 'badly': 151, 'reaction': 1357, 'intp': 896, 'esoteric': 562, 'gabbing': 692, 'nature': 1136, 'universe': 1763, 'rule': 1435, 'code': 301, 'arbitrary': 98, 'create': 374, 'entj': 548, 'sub': 1622, 'sincerely': 1519, 'deep': 411, 'existential': 583, 'slide': 1534, 'scale': 1449, 'depend': 422, 'individual': 859, 'preference': 1296, 'everything': 574, 'malfoy': 1033, 'either': 520, 'stack': 1583, 'distinction': 465, 'core': 357, 'indicate': 855, 'primary': 1303, 'motivation': 1106, 'action': 20, 'therefore': 1692, 'particularly': 1218, 'introvert': 900, 'extraverted': 600, 'personally': 1246, 'unphased': 1766, 'interaction': 882, 'alone': 51, 'crave': 372, 'absolute': 5, 'admiration': 28, 'refresh': 1381, 'busy': 235, 'schedule': 1454, 'another': 78, 'probably': 1307, 'others': 1198, 'understood': 1758, 'fascination': 618, 'virtue': 1802, 'esfj': 560, 'train': 1726, 'op': 1188, 'awhile': 142, 'disincline': 459, 'fi': 634, 'disagree': 453, 'definite': 414, 'mother': 1104, 'concern': 330, 'collect': 306, 'shoe': 1496, 'status': 1594, 'communicates': 317, 'pair': 1211, 'let': 981, 'insert': 871, 'previous': 1302, 'nobody': 1156, 'got': 723, 'fo': 659, 'dat': 399, 'jk': 924, 'kno': 948, 'mah': 1030, 'sure': 1641, 'necessarily': 1139, 'equal': 555, 'fine': 643, 'lately': 960, 'break': 219, 'crappy': 371, 'sex': 1484, 'definitely': 415, 'business': 234, 'talk': 1660, 'lot': 1015, 'te': 1667, 'assumption': 118, 'mom': 1096, 'fun': 688, 'virgin': 1801, 'playful': 1262, 'teasing': 1671, 'stab': 1582, 'dark': 397, 'hood': 802, 'compare': 319, 'logic': 1002, 'series': 1479, 'edit': 512, 'far': 616, 'belief': 178, 'appreciate': 94, 'level': 983, 'detail': 436, 'relatively': 1388, 'certain': 256, 'self': 1470, 'instinctual': 879, 'variant': 1788, 'god': 717, 'useful': 1777, 'wan': 1816, 'na': 1126, 'annoyed': 77, 'intrigue': 898, 'xxfps': 1880, 'dislike': 460, 'normal': 1160, 'combination': 309, 'cognition': 304, 'motivate': 1105, 'observe': 1170, 'common': 316, 'seriously': 1481, 'aggressive': 39, 'controlling': 350, 'massive': 1047, 'thou': 1697, 'streak': 1611, 'depth': 426, 'mostly': 1103, 'emotional': 529, 'interesting': 885, 'mbti': 1059, 'answer': 79, 'illustrate': 834, 'socionics': 1546, 'interpret': 888, 'wholehearted': 1846, 'agreement': 43, 'argument': 101, 'asshole': 114, 'second': 1463, 'bar': 157, 'teeth': 1675, 'seemingly': 1469, 'refuse': 1382, 'address': 27, 'beyond': 186, 'single': 1522, 'refer': 1379, 'literal': 996, 'analysis': 69, 'happy': 758, 'provide': 1322, 'assume': 117, 'symbolism': 1651, 'process': 1310, 'initial': 868, 'generally': 704, 'accepted': 9, 'view': 1799, 'explanation': 589, 'crushable': 385, 'huh': 818, 'clever': 295, 'almost': 50, 'bother': 208, 'ask': 111, 'extravert': 599, 'intuitive': 901, 'evidently': 575, 'do': 470, 'listen': 995, 'sx': 1650, 'message': 1076, 'goodnight': 720, 'secretly': 1464, 'point': 1269, 'actual': 22, 'rarity': 1351, 'skew': 1528, 'rare': 1349, 'context': 347, 'math': 1050, 'literally': 997, 'number': 1166, 'glorify': 714, 'saw': 1447, 'rough': 1432, 'estimate': 566, 'job': 925, 'planet': 1259, 'silly': 1511, 'report': 1402, 'encompass': 534, 'whatever': 1835, 'culmination': 387, 'throughout': 1703, 'potential': 1289, 'everybody': 572, 'agree': 42, 'profess': 1312, 'state': 1591, 'strike': 1615, 'misconception': 1086, 'approach': 95, 'logically': 1004, 'key': 938, 'unlock': 1764, 'entitle': 547, 'vacation': 1782, 'bos': 207, 'permanent': 1242, 'month': 1098, 'crazy': 373, 'employee': 532, 'cook': 354, 'reliable': 1390, 'asset': 113, 'employer': 533, 'unsolicited': 1769, 'impoverish': 844, 'rap': 1348, 'stonewalling': 1604, 'insignificant': 872, 'idiot': 831, 'semantics': 1473, 'impact': 841, 'stone': 1603, 'critical': 379, 'shit': 1494, 'project': 1316, 'court': 368, 'deposition': 424, 'skit': 1531, 'verbatim': 1795, 'piece': 1253, 'candy': 241, 'grocery': 735, 'store': 1606, 'disposal': 462, 'efficient': 517, 'manner': 1038, 'possible': 1284, 'flirting': 656, 'info': 862, 'shut': 1504, 'impress': 845, 'married': 1043, 'interested': 884, 'girl': 708, 'forum': 672, 'similar': 1513, 'question': 1335, 'scenario': 1452, 'modify': 1095, 'suit': 1633, 'tarp': 1664, 'jigsaw': 923, 'mulcher': 1115, 'entjs': 549, 'hump': 822, 'chihuahua': 276, 'dump': 502, 'college': 308, 'romp': 1430, 'petty': 1247, 'xd': 1878, 'men': 1068, 'directly': 451, 'sell': 1472, 'dream': 490, 'dead': 402, 'ha': 747, 'critically': 380, 'thinking': 1695, 'brain': 215, 'effort': 518, 'understanding': 1756, 'value': 1786, 'judgement': 932, 'popular': 1277, 'instead': 877, 'push': 1331, 'harder': 762, 'child': 277, 'cry': 386, 'climb': 296, 'gray': 729, 'drink': 493, 'drank': 488, 'beer': 170, 'hardcore': 761, 'cider': 288, 'sweet': 1646, 'brown': 226, 'ale': 47, 'liquor': 993, 'vodka': 1807, 'chase': 267, 'cran': 370, 'water': 1823, 'preferred': 1297, 'wine': 1851, 'dry': 497, 'escalate': 559, 'dr': 487, 'annoyance': 76, 'darth': 398, 'alpha': 54, 'claim': 291, 'healthy': 772, 'loyalty': 1020, 'loyal': 1019, 'vision': 1803, 'term': 1681, 'accomplish': 11, 'without': 1857, 'involve': 904, 'worth': 1869, 'entertain': 545, 'msbossypants': 1113, 'debate': 406, 'ayn': 143, 'rand': 1344, 'marx': 1045, 'poor': 1275, 'correlate': 359, 'sociopathic': 1548, 'laughing': 963, 'concept': 329, 'principle': 1305, 'tenet': 1680, 'politics': 1272, 'ideology': 830, 'religion': 1391, 'stalin': 1585, 'justify': 936, 'uncorrupt': 1753, 'heretic': 784, 'dogma': 472, 'morally': 1100, 'bankrupt': 156, 'plenty': 1264, 'evil': 576, 'achieve': 15, 'attain': 123, 'goal': 716, 'effect': 515, 'ambiguous': 64, 'perceive': 1235, 'dichotomy': 443, 'objective': 1168, 'negative': 1142, 'interpretation': 889, 'characteristic': 265, 'nameuser': 1131, 'solution': 1554, 'fuck': 684, 'expose': 592, 'warrant': 1820, 'validate': 1785, 'reeeeeeaaallly': 1378, 'hate': 766, 'rigidly': 1421, 'pc': 1230, 'thumb': 1704, 'suck': 1627, 'nanny': 1132, 'bitch': 194, 'remind': 1398, 'five': 650, 'gain': 693, 'parent': 1215, 'approval': 97, 'taddling': 1657, 'skin': 1530, 'wrong': 1875, 'racist': 1343, 'energy': 540, 'resource': 1407, 'focus': 660, 'overboard': 1202, 'condescend': 332, 'legit': 977, 'brevity': 222, 'refute': 1383, 'scientist': 1457, 'scientific': 1456, 'information': 863, 'revise': 1416, 'discover': 456, 'rational': 1353, 'edgar': 508, 'allen': 48, 'poe': 1268, 'obvious': 1174, 'quick': 1336, 'isfp': 907, 'haku': 750, 'flat': 651, 'naruto': 1133, 'party': 1220, 'disprove': 463, 'merely': 1075, 'method': 1078, 'disturb': 469, 'although': 59, 'bring': 223, 'control': 349, 'government': 724, 'google': 721, 'jesus': 922, 'camp': 240, 'full': 687, 'metaphysical': 1077, 'gun': 745, 'hold': 797, 'effective': 516, 'usually': 1780, 'emotionally': 530, 'attraction': 129, 'wedding': 1827, 'dip': 449, 'chocolate': 281, 'fountain': 673, 'fruit': 682, 'fish': 648, 'hershey': 785, 'jar': 918, 'honey': 801, 'since': 1518, 'externally': 595, 'internally': 886, 'tempt': 1677, 'avoid': 134, 'fudge': 685, 'truth': 1740, 'heard': 774, 'loooot': 1011, 'anime': 75, 'member': 1067, 'nice': 1150, 'expression': 594, 'private': 1306, 'becuase': 168, 'rememeber': 1397, 'spell': 1576, 'kokoro': 951, 'relate': 1386, 'alot': 53, 'react': 1356, 'respect': 1408, 'establish': 565, 'ground': 736, 'choice': 282, 'teen': 1674, 'explore': 590, 'subject': 1623, 'smoke': 1538, 'addictive': 26, 'stop': 1605, 'reputation': 1403, 'reveal': 1414, 'cause': 252, 'kill': 940, 'jail': 915, 'indicator': 856, 'sensor': 1475, 'surprising': 1642, 'anyone': 83, 'loooong': 1010, 'barrier': 160, 'sociopath': 1547, 'shortly': 1501, 'attempt': 125, 'sympathy': 1652, 'beggning': 173, 'lelouch': 978, 'ultimately': 1751, 'remorse': 1399, 'consider': 342, 'panic': 1212, 'accord': 12, 'plan': 1258, 'horrify': 809, 'tomorrow': 1715, 'press': 1300, 'gang': 696, 'banger': 154, 'shot': 1502, 'truckload': 1736, 'soldier': 1551, 'blow': 200, 'geass': 701, 'stein': 1596, 'gate': 698, 'barely': 158, 'slow': 1535, 'beginning': 175, 'emil': 525, 'asahina': 108, 'hinata': 792, 'isfps': 908, 'kimmimaro': 942, 'alphonse': 55, 'li': 984, 'xingke': 1879, 'system': 1655, 'fall': 611, 'along': 52, 'program': 1314, 'recognize': 1374, 'username': 1778, 'four': 674, 'match': 1049, 'challenge': 260, 'pizza': 1256, 'english': 542, 'degree': 417, 'realistic': 1363, 'fantasy': 615, 'worthwhile': 1870, 'dominant': 474, 'understands': 1757, 'letter': 982, 'intend': 881, 'shorthand': 1500, 'strong': 1616, 'possibility': 1283, 'possibly': 1285, 'brainstorm': 216, 'overthink': 1206, 'anxiety': 81, 'avoidance': 135, 'secure': 1465, 'quadrant': 1334, 'research': 1406, 'attachment': 122, 'tend': 1679, 'enduring': 538, 'simply': 1516, 'anytime': 85, 'fantasize': 614, 'expect': 584, 'doublethink': 481, 'remain': 1393, 'explain': 588, 'oceania': 1177, 'fell': 629, 'atheist': 119, 'religious': 1392, 'hindu': 793, 'denial': 420, 'ascientologists': 109, 'definition': 416, 'define': 413, 'attach': 121, 'suffix': 1630, 'general': 703, 'practice': 1293, 'disbelief': 454, 'deity': 418, 'widely': 1848, 'guess': 741, 'wholly': 1847, 'unquestionably': 1767, 'text': 1686, 'pose': 1279, 'medium': 1063, 'fingertip': 644, 'poll': 1273, 'eharmony': 519, 'mafia': 1029, 'vote': 1809, 'round': 1433, 'rob': 1424, 'joe': 926, 'fiction': 635, 'writer': 1874, 'tedious': 1673, 'gratuitous': 728, 'image': 836, 'isfj': 906, 'istj': 911, 'istp': 912, 'side': 1508, 'esfp': 561, 'leader': 969, 'brave': 217, 'familiar': 612, 'ca': 237, 'nail': 1128, 'haha': 748, 'professional': 1313, 'gel': 702, 'electronic': 522, 'screen': 1460, 'syndrome': 1654, 'advent': 32, 'technology': 1672, 'suffer': 1629, 'overstimulation': 1205, 'daily': 393, 'guilty': 742, 'past': 1221, 'menstruation': 1069, 'church': 287, 'thanks': 1689, 'yeah': 1882, 'taoist': 1661, 'copy': 356, 'future': 691, 'tongue': 1716, 'speak': 1570, 'bomb': 204, 'shelter': 1491, 'christian': 286, 'absence': 4, 'childhood': 278, 'brother': 225, 'physical': 1249, 'verbal': 1793, 'abuse': 8, 'instantly': 876, 'upset': 1775, 'whenever': 1837, 'pov': 1291, 'behaviour': 176, 'unrelated': 1768, 'whether': 1840, 'begin': 174, 'comfort': 311, 'zone': 1892, 'sake': 1444, 'wellbeing': 1832, 'pull': 1327, 'rut': 1437, 'offend': 1179, 'dirty': 452, 'joke': 927, 'amend': 65, 'original': 1196, 'btw': 228, 'recall': 1369, 'pay': 1229, 'instalment': 874, 'double': 480, 'edged': 510, 'sword': 1649, 'awareness': 138, 'education': 513, 'flip': 654, 'recent': 1371, 'specifically': 1575, 'overall': 1201, 'remark': 1394, 'trauma': 1730, 'torture': 1720, 'stereotypical': 1598, 'statement': 1592, 'girly': 710, 'princess': 1304, 'pls': 1266, 'label': 952, 'nowadays': 1165, 'slap': 1532, 'bbc': 163, 'hardly': 763, 'source': 1569, 'symptom': 1653, 'checklist': 269, 'psychopath': 1324, 'gal': 694, 'happiness': 757, 'exact': 577, 'unhappiness': 1761, 'buy': 236, 'expectation': 585, 'sick': 1507, 'vern': 1796, 'confess': 333, 'unbreak': 1752, 'omg': 1185, 'morbid': 1101, 'blush': 201, 'orange': 1194, 'white': 1843, 'yellow': 1885, 'erupt': 558, 'war': 1819, 'joyous': 929, 'posting': 1288, 'believer': 180, 'underground': 1754, 'analyse': 68, 'mode': 1091, 'zoom': 1893, 'lonely': 1006, 'suddenly': 1628, 'declare': 410, 'lord': 1013, 'prosper': 1320, 'harm': 764, 'jeremiah': 920, 'snobbish': 1541, 'idealistic': 828, 'especially': 563, 'overdrive': 1203, 'ashton': 110, 'friendly': 680, 'caring': 247, 'partner': 1219, 'boyish': 214, 'wink': 1853, 'hr': 814, 'maximum': 1053, 'army': 103, 'barge': 159, 'attention': 126, 'anymore': 82, 'terror': 1684, 'young': 1889, 'catch': 251, 'traumatise': 1731, 'period': 1241, 'ghost': 707, 'paralysis': 1214, 'window': 1850, 'spirit': 1578, 'supernatural': 1638, 'lucid': 1021, 'dreaming': 492, 'less': 980, 'fit': 649, 'club': 300, 'anywhere': 87, 'noisy': 1157, 'untrue': 1771, 'festival': 633, 'concert': 331, 'dance': 395, 'favourite': 623, 'purpose': 1329, 'badass': 150, 'switch': 1648, 'prolific': 1317, 'dreamer': 491, 'vivid': 1806, 'prophetic': 1319, 'connection': 340, 'sadness': 1442, 'joy': 928, 'instant': 875, 'particular': 1217, 'romantic': 1429, 'fold': 661, 'bottle': 209, 'star': 1587, 'boyfriend': 213, 'sitting': 1526, 'crowded': 382, 'quietly': 1338, 'hawk': 768, 'creep': 377, 'collection': 307, 'frequently': 677, 'folder': 662, 'ike': 832, 'odd': 1178, 'object': 1167, 'junk': 935, 'unused': 1772, 'software': 1549, 'ill': 833, 'bunch': 231, 'adobe': 30, 'earlier': 504, 'dont': 478, 'tolerate': 1714, 'layer': 967, 'im': 835, 'scared': 1451, 'free': 675, 'desire': 431, 'interpreting': 890, 'mentally': 1072, 'incapable': 847, 'cant': 242, 'stand': 1586, 'interviewer': 892, 'christ': 285, 'hmmm': 796, 'input': 870, 'towards': 1724, 'page': 1208, 'outside': 1200, 'act': 19, 'miss': 1087, 'lounge': 1016, 'holiday': 798, 'naive': 1129, 'browse': 227, 'appearance': 93, 'unsure': 1770, 'lurk': 1024, 'contribute': 348, 'add': 25, 'log': 1001, 'purposely': 1330, 'id': 826, 'wait': 1810, 'swing': 1647, 'fight': 637, 'complexity': 324, 'simplicity': 1515, 'apparently': 91, 'benefit': 182, 'distance': 464, 'sanity': 1445, 'express': 593, 'format': 670, 'proceed': 1309, 'perform': 1239, 'movement': 1110, 'necessary': 1140, 'required': 1405, 'extra': 597, 'heavy': 777, 'introversion': 899, 'acutely': 24, 'mistake': 1089, 'solo': 1553, 'task': 1665, 'lead': 968, 'successful': 1626, 'completion': 322, 'success': 1625, 'fan': 613, 'celestial': 255, 'die': 445, 'essence': 564, 'wondrous': 1861, 'cosmic': 360, 'manager': 1036, 'present': 1299, 'company': 318, 'policy': 1271, 'save': 1446, 'receipt': 1370, 'remember': 1395, 'encounter': 535, 'boa': 202, 'hurricane': 824, 'venus': 1792, 'starcraft': 1588, 'stream': 1612, 'kinda': 944, 'hooked': 803, 'riddle': 1418, 'infuriate': 865, 'didnt': 444, 'regret': 1384, 'summon': 1635, 'puzzle': 1333, 'box': 211, 'nope': 1159, 'realise': 1362, 'havent': 767, 'incorrect': 850, 'pain': 1209, 'living': 1000, 'isnt': 909, 'openness': 1190, 'moderate': 1093, 'range': 1346, 'conscientiousness': 341, 'low': 1018, 'extraversion': 598, 'humanity': 820, 'direction': 450, 'weve': 1834, 'decisive': 409, 'confident': 335, 'devil': 440, 'advocate': 35, 'tie': 1707, 'sink': 1523, 'embrace': 524, 'madness': 1028, 'ring': 1422, 'billion': 190, 'higher': 789, 'nearly': 1138, 'house': 812, 'chill': 279, 'gather': 699, 'portray': 1278, 'cross': 381, 'hmm': 795, 'highschool': 791, 'stumble': 1619, 'somehow': 1557, 'yo': 1888, 'friendship': 681, 'investment': 903, 'huge': 817, 'reciprocate': 1373, 'soul': 1566, 'destroy': 435, 'dependant': 423, 'perception': 1236, 'robb': 1425, 'flynn': 658, 'win': 1849, 'tough': 1722, 'winona': 1854, 'ryder': 1438, 'lydia': 1025, 'beetlejuice': 172, 'matter': 1052, 'bleak': 196, 'might': 1082, 'stretch': 1614, 'voice': 1808, 'distort': 466, 'frusterated': 683, 'brink': 224, 'carry': 248, 'weight': 1829, 'feelin': 627, 'mundane': 1118, 'simple': 1514, 'ocd': 1176, 'obsessive': 1173, 'cleaning': 293, 'affect': 36, 'obsess': 1171, 'hop': 804, 'finish': 645, 'anarchy': 70, 'tv': 1745, 'stage': 1584, 'force': 666, 'reading': 1359, 'heinekens': 779, 'harmony': 765, 'capitalize': 244, 'opportunity': 1193, 'lie': 985, 'path': 1223, 'fulfilled': 686, 'folk': 663, 'greatly': 731, 'naturally': 1135, 'affectionate': 37, 'wrestle': 1872, 'grateful': 727, 'countless': 364, 'indifference': 857, 'early': 505, 'ford': 667, 'mustang': 1123, 'gt': 740, 'square': 1581, 'body': 203, 'reality': 1364, 'dollar': 473, 'attainable': 124, 'depression': 425, 'vary': 1790, 'serious': 1480, 'food': 665, 'chicken': 275, 'wing': 1852, 'cheesecake': 272, 'pumpkin': 1328, 'pie': 1252, 'redbull': 1377, 'guinness': 743, 'grind': 734, 'guitar': 744, 'slowly': 1536, 'certainly': 257, 'vague': 1784, 'advice': 34, 'someday': 1556, 'content': 345, 'breakfast': 220, 'grilled': 732, 'decent': 407, 'machine': 1026, 'michael': 1080, 'amott': 66, 'arch': 99, 'enemy': 539, 'jerry': 921, 'cantrell': 243, 'aic': 45, 'forgot': 668, 'zakk': 1891, 'wylde': 1876, 'musical': 1121, 'shirt': 1493, 'megadeth': 1065, 'takin': 1659, 'silk': 1510, 'july': 933, 'roll': 1428, 'mayhem': 1056, 'unfortunately': 1760, 'trouble': 1735, 'muster': 1124, 'utterly': 1781, 'bewilder': 185, 'laundry': 965, 'clothes': 299, 'wear': 1825, 'contend': 344, 'mountain': 1107, 'pile': 1254, 'sent': 1476, 'apollo': 89, 'office': 1180, 'dumbstruck': 501, 'confuse': 337, 'edge': 509, 'duplicitous': 503, 'hopelessly': 807, 'despicable': 434, 'scott': 1459, 'disick': 458, 'instagram': 873, 'douchebags': 483, 'quiet': 1337, 'hair': 749, 'damn': 394, 'logical': 1003, 'beach': 164, 'yet': 1887, 'longer': 1008, 'breather': 221, 'agonizingly': 41, 'chance': 261, 'indecision': 852, 'procrastination': 1311, 'super': 1636, 'dormer': 479, 'cat': 250, 'fascinate': 617, 'honest': 800, 'version': 1797, 'short': 1499, 'bike': 189, 'accident': 10, 'doesnt': 471, 'net': 1143, 'drown': 495, 'overthinking': 1207, 'apart': 88, 'yeehaw': 1884, 'country': 365, 'detective': 437, 'eff': 514, 'distract': 467, 'stomach': 1602, 'burgeoning': 232, 'unnerved': 1765, 'murder': 1119, 'envision': 553, 'matrix': 1051, 'calculate': 238, 'trend': 1733, 'viral': 1800, 'selfie': 1471, 'transform': 1728, 'luddite': 1023, 'codger': 302, 'bemoan': 181, 'excruciatingly': 581, 'vacuous': 1783, 'fleeting': 653, 'attract': 128, 'terrify': 1683, 'concentration': 328, 'heighten': 778, 'dispense': 461, 'apologetic': 90, 'altogether': 61, 'goodbye': 719, 'ruin': 1434, 'mellow': 1066, 'sh': 1485, 'relaxed': 1389, 'tap': 1662, 'automatically': 131, 'reflect': 1380, 'mood': 1099, 'immediate': 838, 'surrounding': 1644, 'patience': 1224, 'disdain': 457, 'comprehension': 327, 'inhuman': 867, 'emma': 526, 'youtubing': 1890, 'realize': 1365, 'lipsync': 992, 'kitteh': 946, 'harbor': 759, 'estps': 568, 'freeze': 676, 'merchandise': 1074, 'inversed': 902, 'polyjuice': 1274, 'potion': 1290, 'wherein': 1839, 'attitude': 127, 'facial': 606, 'countenance': 363, 'fledged': 652, 'leaf': 970, 'crunch': 383, 'cup': 388, 'coffee': 303, 'episode': 554, 'torrent': 1719, 'fresh': 678, 'date': 400, 'backstab': 147, 'emphasize': 531, 'repercussion': 1401, 'advancement': 31, 'black': 195, 'orphan': 1197, 'season': 1462, 'binge': 191, 'summer': 1634, 'actress': 21, 'obsessed': 1172, 'althought': 60, 'equate': 556, 'contentment': 346, 'cheerful': 271, 'patient': 1225, 'rationalize': 1354, 'hence': 783, 'confusing': 338, 'prefer': 1295, 'mystery': 1125, 'undertone': 1759, 'film': 639, 'mull': 1116, 'nolan': 1158, 'haneke': 754, 'almodovar': 49, 'fincher': 641, 'judged': 931, 'scene': 1453, 'gloomy': 713, 'fashion': 619, 'association': 116, 'drug': 496, 'niece': 1151, 'absurd': 7, 'hipster': 794, 'acid': 16, 'trip': 1734, 'fly': 657, 'bread': 218, 'atmosphere': 120, 'assimilate': 115, 'immense': 839, 'plot': 1265, 'walk': 1812, 'excellent': 579, 'faucet': 621, 'circumstance': 290, 'independently': 854, 'targaryen': 1663, 'character': 263, 'lannister': 957, 'tywin': 1750, 'tyrion': 1749, 'jaime': 916, 'daenerys': 392, 'stormborn': 1608, 'arya': 107, 'stark': 1589, 'storyline': 1610, 'dany': 396, 'rear': 1367, 'walter': 1815, 'relatable': 1385, 'awe': 140, 'horried': 808, 'progression': 1315, 'chemistry': 273, 'teacher': 1669, 'manipulator': 1037, 'incarnate': 848}\n"
     ]
    }
   ],
   "source": [
    "print(Tfidf_vect.vocabulary_)"
   ]
  },
  {
   "cell_type": "code",
   "execution_count": 16,
   "metadata": {},
   "outputs": [
    {
     "name": "stdout",
     "output_type": "stream",
     "text": [
      "  (0, 1880)\t0.04645714944196737\n",
      "  (0, 1871)\t0.07525283238686485\n",
      "  (0, 1868)\t0.03949282134984721\n",
      "  (0, 1865)\t0.020622895747571538\n",
      "  (0, 1855)\t0.027587223839691685\n",
      "  (0, 1846)\t0.04645714944196737\n",
      "  (0, 1835)\t0.030718805606871742\n",
      "  (0, 1830)\t0.06910310386362367\n",
      "  (0, 1824)\t0.03435229297344275\n",
      "  (0, 1818)\t0.05643962429014864\n",
      "  (0, 1816)\t0.03949282134984721\n",
      "  (0, 1802)\t0.04645714944196737\n",
      "  (0, 1801)\t0.04645714944196737\n",
      "  (0, 1799)\t0.034551551931811836\n",
      "  (0, 1788)\t0.04645714944196737\n",
      "  (0, 1777)\t0.03949282134984721\n",
      "  (0, 1766)\t0.04645714944196737\n",
      "  (0, 1763)\t0.03949282134984721\n",
      "  (0, 1758)\t0.04645714944196737\n",
      "  (0, 1747)\t0.24910549863821932\n",
      "  (0, 1726)\t0.04645714944196737\n",
      "  (0, 1725)\t0.07898564269969442\n",
      "  (0, 1721)\t0.03949282134984721\n",
      "  (0, 1710)\t0.034551551931811836\n",
      "  (0, 1709)\t0.03435229297344275\n",
      "  :\t:\n",
      "  (6, 167)\t0.025042457122360782\n",
      "  (6, 166)\t0.06272872999410077\n",
      "  (6, 145)\t0.018720549247671185\n",
      "  (6, 137)\t0.031364364997050385\n",
      "  (6, 136)\t0.03584983001702633\n",
      "  (6, 126)\t0.03584983001702633\n",
      "  (6, 125)\t0.03584983001702633\n",
      "  (6, 111)\t0.031364364997050385\n",
      "  (6, 94)\t0.06272872999410077\n",
      "  (6, 93)\t0.04217173789171593\n",
      "  (6, 91)\t0.04217173789171593\n",
      "  (6, 84)\t0.041113984204769666\n",
      "  (6, 79)\t0.06272872999410077\n",
      "  (6, 78)\t0.025042457122360782\n",
      "  (6, 67)\t0.06272872999410077\n",
      "  (6, 62)\t0.018720549247671185\n",
      "  (6, 59)\t0.031364364997050385\n",
      "  (6, 58)\t0.03584983001702633\n",
      "  (6, 35)\t0.04217173789171593\n",
      "  (6, 30)\t0.04217173789171593\n",
      "  (6, 25)\t0.04217173789171593\n",
      "  (6, 24)\t0.04217173789171593\n",
      "  (6, 23)\t0.020556992102384833\n",
      "  (6, 20)\t0.031364364997050385\n",
      "  (6, 19)\t0.03584983001702633\n"
     ]
    }
   ],
   "source": [
    "print(Train_X_Tfidf)"
   ]
  },
  {
   "cell_type": "code",
   "execution_count": 17,
   "metadata": {},
   "outputs": [
    {
     "name": "stdout",
     "output_type": "stream",
     "text": [
      "Naive Bayes Accuracy Score ->  33.33333333333333\n"
     ]
    }
   ],
   "source": [
    "# fit the training dataset on the NB classifier\n",
    "Naive = naive_bayes.MultinomialNB()\n",
    "Naive.fit(Train_X_Tfidf,Train_Y)\n",
    "# predict the labels on validation dataset\n",
    "predictions_NB = Naive.predict(Test_X_Tfidf)\n",
    "# Use accuracy_score function to get the accuracy\n",
    "print(\"Naive Bayes Accuracy Score -> \",accuracy_score(predictions_NB, Test_Y)*100)\n",
    "filename = 'naive_bayes_model.sav'\n",
    "pickle.dump(Naive, open(filename, 'wb'))\n",
    "\n",
    "acc=accuracy_score(predictions_NB, Test_Y)*100\n",
    "algorithmname.append('Naive Bayes')\n",
    "algoaccuracy.append(acc)"
   ]
  },
  {
   "cell_type": "code",
   "execution_count": null,
   "metadata": {},
   "outputs": [],
   "source": []
  },
  {
   "cell_type": "code",
   "execution_count": 18,
   "metadata": {},
   "outputs": [
    {
     "name": "stdout",
     "output_type": "stream",
     "text": [
      "precision is 0.3333333333333333\n",
      "recall is 0.16666666666666666\n",
      "f1score is 0.2222222222222222\n"
     ]
    },
    {
     "name": "stderr",
     "output_type": "stream",
     "text": [
      "C:\\Users\\ningesh\\.conda\\envs\\project\\lib\\site-packages\\sklearn\\metrics\\_classification.py:1221: UndefinedMetricWarning: Precision and F-score are ill-defined and being set to 0.0 in labels with no predicted samples. Use `zero_division` parameter to control this behavior.\n",
      "  _warn_prf(average, modifier, msg_start, len(result))\n",
      "C:\\Users\\ningesh\\.conda\\envs\\project\\lib\\site-packages\\sklearn\\metrics\\_classification.py:1221: UndefinedMetricWarning: Recall and F-score are ill-defined and being set to 0.0 in labels with no true samples. Use `zero_division` parameter to control this behavior.\n",
      "  _warn_prf(average, modifier, msg_start, len(result))\n"
     ]
    }
   ],
   "source": [
    "from sklearn.metrics import precision_recall_fscore_support\n",
    "op=precision_recall_fscore_support(Test_Y, predictions_NB, average='macro')\n",
    "\n",
    "print(\"precision is \"+str(op[0]))\n",
    "print(\"recall is \"+str(op[1]))\n",
    "print(\"f1score is \"+str(op[2]))\n"
   ]
  },
  {
   "cell_type": "code",
   "execution_count": 73,
   "metadata": {},
   "outputs": [
    {
     "data": {
      "text/plain": [
       "['ENFJ',\n",
       " 'ENFP',\n",
       " 'ENTJ',\n",
       " 'ENTP',\n",
       " 'ESFJ',\n",
       " 'ESFP',\n",
       " 'ESTP',\n",
       " 'INFJ',\n",
       " 'INFP',\n",
       " 'INTJ',\n",
       " 'INTP',\n",
       " 'ISFJ',\n",
       " 'ISFP',\n",
       " 'ISTJ',\n",
       " 'ISTP']"
      ]
     },
     "execution_count": 73,
     "metadata": {},
     "output_type": "execute_result"
    }
   ],
   "source": [
    "listofclasses"
   ]
  },
  {
   "cell_type": "code",
   "execution_count": 74,
   "metadata": {},
   "outputs": [
    {
     "data": {
      "text/plain": [
       "[14,\n",
       " 10,\n",
       " 12,\n",
       " 8,\n",
       " 8,\n",
       " 14,\n",
       " 6,\n",
       " 8,\n",
       " 9,\n",
       " 9,\n",
       " 0,\n",
       " 3,\n",
       " 7,\n",
       " 14,\n",
       " 7,\n",
       " 8,\n",
       " 8,\n",
       " 8,\n",
       " 8,\n",
       " 7,\n",
       " 8,\n",
       " 9,\n",
       " 10,\n",
       " 7,\n",
       " 12,\n",
       " 1,\n",
       " 1,\n",
       " 8,\n",
       " 14,\n",
       " 7,\n",
       " 8,\n",
       " 9,\n",
       " 7,\n",
       " 14,\n",
       " 3,\n",
       " 9,\n",
       " 8,\n",
       " 9,\n",
       " 1,\n",
       " 9,\n",
       " 7,\n",
       " 7,\n",
       " 1,\n",
       " 10,\n",
       " 10,\n",
       " 10,\n",
       " 9,\n",
       " 0,\n",
       " 8,\n",
       " 8,\n",
       " 10,\n",
       " 7,\n",
       " 6,\n",
       " 9,\n",
       " 8,\n",
       " 3,\n",
       " 1,\n",
       " 14,\n",
       " 9,\n",
       " 1,\n",
       " 8,\n",
       " 8,\n",
       " 9,\n",
       " 7,\n",
       " 1,\n",
       " 10,\n",
       " 14,\n",
       " 3,\n",
       " 2,\n",
       " 9,\n",
       " 8,\n",
       " 13,\n",
       " 8,\n",
       " 10,\n",
       " 14,\n",
       " 0,\n",
       " 3,\n",
       " 14,\n",
       " 3,\n",
       " 14,\n",
       " 7,\n",
       " 12,\n",
       " 8,\n",
       " 7,\n",
       " 9,\n",
       " 8,\n",
       " 7,\n",
       " 10,\n",
       " 7,\n",
       " 10,\n",
       " 8,\n",
       " 8,\n",
       " 0,\n",
       " 10,\n",
       " 7,\n",
       " 8,\n",
       " 5,\n",
       " 8,\n",
       " 12,\n",
       " 0,\n",
       " 10,\n",
       " 8,\n",
       " 7,\n",
       " 10,\n",
       " 9,\n",
       " 7,\n",
       " 7,\n",
       " 9,\n",
       " 4,\n",
       " 10,\n",
       " 10,\n",
       " 9,\n",
       " 7,\n",
       " 3,\n",
       " 7,\n",
       " 9,\n",
       " 8,\n",
       " 7,\n",
       " 9,\n",
       " 8,\n",
       " 8,\n",
       " 7,\n",
       " 7,\n",
       " 9,\n",
       " 8,\n",
       " 7,\n",
       " 9,\n",
       " 14,\n",
       " 8,\n",
       " 10,\n",
       " 9,\n",
       " 9,\n",
       " 8,\n",
       " 10,\n",
       " 7,\n",
       " 10,\n",
       " 10,\n",
       " 9,\n",
       " 8,\n",
       " 7,\n",
       " 10,\n",
       " 8,\n",
       " 1,\n",
       " 8,\n",
       " 8,\n",
       " 8,\n",
       " 8,\n",
       " 7,\n",
       " 7,\n",
       " 8,\n",
       " 10,\n",
       " 8,\n",
       " 9,\n",
       " 0,\n",
       " 10,\n",
       " 7,\n",
       " 8,\n",
       " 6,\n",
       " 12,\n",
       " 1,\n",
       " 3,\n",
       " 10,\n",
       " 3,\n",
       " 11,\n",
       " 10,\n",
       " 10,\n",
       " 0,\n",
       " 2,\n",
       " 8,\n",
       " 14,\n",
       " 9,\n",
       " 10,\n",
       " 10,\n",
       " 8,\n",
       " 1,\n",
       " 8,\n",
       " 7,\n",
       " 12,\n",
       " 10,\n",
       " 9,\n",
       " 10,\n",
       " 9,\n",
       " 2,\n",
       " 7,\n",
       " 8,\n",
       " 3,\n",
       " 2,\n",
       " 7,\n",
       " 8,\n",
       " 9,\n",
       " 8,\n",
       " 9,\n",
       " 8,\n",
       " 10,\n",
       " 8,\n",
       " 7,\n",
       " 8,\n",
       " 10,\n",
       " 7,\n",
       " 3,\n",
       " 8,\n",
       " 10,\n",
       " 0,\n",
       " 8,\n",
       " 7,\n",
       " 8,\n",
       " 9,\n",
       " 8,\n",
       " 12,\n",
       " 10,\n",
       " 5,\n",
       " 3,\n",
       " 8,\n",
       " 8,\n",
       " 7,\n",
       " 8,\n",
       " 9,\n",
       " 7,\n",
       " 8,\n",
       " 1,\n",
       " 3,\n",
       " 8,\n",
       " 9,\n",
       " 14,\n",
       " 8,\n",
       " 7,\n",
       " 10,\n",
       " 8,\n",
       " 8,\n",
       " 7,\n",
       " 3,\n",
       " 7,\n",
       " 8,\n",
       " 8,\n",
       " 9,\n",
       " 8,\n",
       " 10,\n",
       " 9,\n",
       " 6,\n",
       " 12,\n",
       " 10,\n",
       " 11,\n",
       " 2,\n",
       " 7,\n",
       " 3,\n",
       " 1,\n",
       " 7,\n",
       " 10,\n",
       " 8,\n",
       " 9,\n",
       " 1,\n",
       " 8,\n",
       " 2,\n",
       " 9,\n",
       " 8,\n",
       " 8,\n",
       " 10,\n",
       " 8,\n",
       " 9,\n",
       " 8,\n",
       " 10,\n",
       " 10,\n",
       " 1,\n",
       " 7,\n",
       " 10,\n",
       " 7,\n",
       " 1,\n",
       " 9,\n",
       " 8,\n",
       " 1,\n",
       " 9,\n",
       " 10,\n",
       " 8,\n",
       " 1,\n",
       " 10,\n",
       " 10,\n",
       " 3,\n",
       " 10,\n",
       " 3,\n",
       " 10,\n",
       " 10,\n",
       " 13,\n",
       " 8,\n",
       " 1,\n",
       " 10,\n",
       " 7,\n",
       " 3,\n",
       " 7,\n",
       " 8,\n",
       " 10,\n",
       " 8,\n",
       " 7,\n",
       " 8,\n",
       " 9,\n",
       " 9,\n",
       " 7,\n",
       " 8,\n",
       " 7,\n",
       " 8,\n",
       " 14]"
      ]
     },
     "execution_count": 74,
     "metadata": {},
     "output_type": "execute_result"
    }
   ],
   "source": [
    "Test_Y.tolist()"
   ]
  },
  {
   "cell_type": "code",
   "execution_count": 22,
   "metadata": {},
   "outputs": [
    {
     "name": "stderr",
     "output_type": "stream",
     "text": [
      "C:\\Users\\ningesh\\.conda\\envs\\project\\lib\\site-packages\\numpy\\lib\\arraysetops.py:565: FutureWarning: elementwise comparison failed; returning scalar instead, but in the future will perform elementwise comparison\n",
      "  mask &= (ar1 != a)\n"
     ]
    },
    {
     "ename": "ValueError",
     "evalue": "y contains previously unseen labels: ['INFJ' 'INTJ']",
     "output_type": "error",
     "traceback": [
      "\u001b[1;31m---------------------------------------------------------------------------\u001b[0m",
      "\u001b[1;31mValueError\u001b[0m                                Traceback (most recent call last)",
      "\u001b[1;32m<ipython-input-22-a57ed8847e73>\u001b[0m in \u001b[0;36m<module>\u001b[1;34m\u001b[0m\n\u001b[0;32m      5\u001b[0m \u001b[1;33m\u001b[0m\u001b[0m\n\u001b[0;32m      6\u001b[0m \u001b[1;33m\u001b[0m\u001b[0m\n\u001b[1;32m----> 7\u001b[1;33m \u001b[0mexpected\u001b[0m \u001b[1;33m=\u001b[0m\u001b[0mEncoder\u001b[0m\u001b[1;33m.\u001b[0m\u001b[0minverse_transform\u001b[0m\u001b[1;33m(\u001b[0m\u001b[0mTest_Y\u001b[0m\u001b[1;33m.\u001b[0m\u001b[0mtolist\u001b[0m\u001b[1;33m(\u001b[0m\u001b[1;33m)\u001b[0m\u001b[1;33m)\u001b[0m\u001b[1;33m\u001b[0m\u001b[1;33m\u001b[0m\u001b[0m\n\u001b[0m\u001b[0;32m      8\u001b[0m \u001b[0mpredicted\u001b[0m \u001b[1;33m=\u001b[0m\u001b[0mEncoder\u001b[0m\u001b[1;33m.\u001b[0m\u001b[0minverse_transform\u001b[0m\u001b[1;33m(\u001b[0m\u001b[0mpredictions_NB\u001b[0m\u001b[1;33m.\u001b[0m\u001b[0mtolist\u001b[0m\u001b[1;33m(\u001b[0m\u001b[1;33m)\u001b[0m\u001b[1;33m)\u001b[0m\u001b[1;33m\u001b[0m\u001b[1;33m\u001b[0m\u001b[0m\n\u001b[0;32m      9\u001b[0m \u001b[0mprint\u001b[0m\u001b[1;33m(\u001b[0m\u001b[0mexpected\u001b[0m\u001b[1;33m)\u001b[0m\u001b[1;33m\u001b[0m\u001b[1;33m\u001b[0m\u001b[0m\n",
      "\u001b[1;32m~\\.conda\\envs\\project\\lib\\site-packages\\sklearn\\preprocessing\\_label.py\u001b[0m in \u001b[0;36minverse_transform\u001b[1;34m(self, y)\u001b[0m\n\u001b[0;32m    299\u001b[0m         \u001b[1;32mif\u001b[0m \u001b[0mlen\u001b[0m\u001b[1;33m(\u001b[0m\u001b[0mdiff\u001b[0m\u001b[1;33m)\u001b[0m\u001b[1;33m:\u001b[0m\u001b[1;33m\u001b[0m\u001b[1;33m\u001b[0m\u001b[0m\n\u001b[0;32m    300\u001b[0m             raise ValueError(\n\u001b[1;32m--> 301\u001b[1;33m                     \"y contains previously unseen labels: %s\" % str(diff))\n\u001b[0m\u001b[0;32m    302\u001b[0m         \u001b[0my\u001b[0m \u001b[1;33m=\u001b[0m \u001b[0mnp\u001b[0m\u001b[1;33m.\u001b[0m\u001b[0masarray\u001b[0m\u001b[1;33m(\u001b[0m\u001b[0my\u001b[0m\u001b[1;33m)\u001b[0m\u001b[1;33m\u001b[0m\u001b[1;33m\u001b[0m\u001b[0m\n\u001b[0;32m    303\u001b[0m         \u001b[1;32mreturn\u001b[0m \u001b[0mself\u001b[0m\u001b[1;33m.\u001b[0m\u001b[0mclasses_\u001b[0m\u001b[1;33m[\u001b[0m\u001b[0my\u001b[0m\u001b[1;33m]\u001b[0m\u001b[1;33m\u001b[0m\u001b[1;33m\u001b[0m\u001b[0m\n",
      "\u001b[1;31mValueError\u001b[0m: y contains previously unseen labels: ['INFJ' 'INTJ']"
     ]
    }
   ],
   "source": [
    "# Example of a confusion matrix in Python\n",
    "from sklearn.metrics import confusion_matrix\n",
    "\n",
    "#listofclasses\n",
    "\n",
    "\n",
    "expected =Encoder.inverse_transform(Test_Y.tolist()) \n",
    "predicted =Encoder.inverse_transform(predictions_NB.tolist()) \n",
    "print(expected)\n",
    "print(predicted)\n",
    "results = confusion_matrix(expected, predicted)\n",
    "print(results)\n",
    "from mlxtend.plotting import plot_confusion_matrix\n",
    "import matplotlib.pyplot as plt\n",
    "import numpy as np\n",
    "\n",
    "binary1 = np.array(results)\n",
    "\n",
    "fig, ax = plot_confusion_matrix(conf_mat=binary1)\n",
    "plt.show()"
   ]
  },
  {
   "cell_type": "code",
   "execution_count": null,
   "metadata": {},
   "outputs": [],
   "source": []
  },
  {
   "cell_type": "code",
   "execution_count": 76,
   "metadata": {},
   "outputs": [
    {
     "name": "stderr",
     "output_type": "stream",
     "text": [
      "C:\\Users\\ningesh\\.conda\\envs\\project\\lib\\site-packages\\sklearn\\utils\\validation.py:71: FutureWarning: Pass labels=['ENFJ', 'ENFP', 'ENTJ', 'ENTP', 'ESFJ', 'ESFP', 'ESTP', 'INFJ', 'INFP', 'INTJ', 'INTP', 'ISFJ', 'ISFP', 'ISTJ', 'ISTP'] as keyword args. From version 0.25 passing these as positional arguments will result in an error\n",
      "  FutureWarning)\n"
     ]
    },
    {
     "data": {
      "image/png": "[encoded data removed]",
      "text/plain": [
       "<Figure size 640x480 with 2 Axes>"
      ]
     },
     "metadata": {},
     "output_type": "display_data"
    }
   ],
   "source": [
    "import seaborn as sns\n",
    "import matplotlib.pyplot as plt     \n",
    "labels =listofclasses# ['delhi.txt', 'mumbai.txt','pune.txt']\n",
    "ax= plt.subplot()\n",
    "cm = confusion_matrix(expected, predicted, labels)\n",
    "sns.heatmap(cm, annot=True, ax = ax); #annot=True to annotate cells\n",
    "\n",
    "# labels, title and ticks\n",
    "ax.set_xlabel('Predicted labels');ax.set_ylabel('True labels'); \n",
    "ax.set_title('Confusion Matrix'); \n",
    "ax.xaxis.set_ticklabels(labels); ax.yaxis.set_ticklabels(labels);\n"
   ]
  },
  {
   "cell_type": "code",
   "execution_count": 77,
   "metadata": {},
   "outputs": [
    {
     "name": "stdout",
     "output_type": "stream",
     "text": [
      "SVM Accuracy Score ->  7.000000000000001\n"
     ]
    }
   ],
   "source": [
    "# Classifier - Algorithm - SVM\n",
    "# fit the training dataset on the classifier\n",
    "SVM = svm.SVC(C=1.0, kernel='linear', degree=3, gamma='auto')\n",
    "SVM.fit(Train_X_Tfidf,Train_Y)\n",
    "# predict the labels on validation dataset\n",
    "predictions_SVM = SVM.predict(Test_X_Tfidf)\n",
    "# Use accuracy_score function to get the accuracy\n",
    "print(\"SVM Accuracy Score -> \",accuracy_score(predictions_SVM, Test_Y)*100)\n",
    "filename = 'svm_linear_model.sav'\n",
    "pickle.dump(SVM, open(filename, 'wb'))\n",
    "acc=accuracy_score(predictions_SVM, Test_Y)*100\n",
    "algorithmname.append('SVM')\n",
    "algoaccuracy.append(acc)"
   ]
  },
  {
   "cell_type": "code",
   "execution_count": 78,
   "metadata": {},
   "outputs": [
    {
     "name": "stdout",
     "output_type": "stream",
     "text": [
      "precision is 0.12014952629310659\n",
      "recall is 0.05506077352767248\n",
      "f1score is 0.05952929858812212\n"
     ]
    }
   ],
   "source": [
    "from sklearn.metrics import precision_recall_fscore_support\n",
    "op=precision_recall_fscore_support(Test_Y, predictions_SVM, average='macro')\n",
    "\n",
    "print(\"precision is \"+str(op[0]))\n",
    "print(\"recall is \"+str(op[1]))\n",
    "print(\"f1score is \"+str(op[2]))\n"
   ]
  },
  {
   "cell_type": "code",
   "execution_count": 79,
   "metadata": {},
   "outputs": [
    {
     "name": "stdout",
     "output_type": "stream",
     "text": [
      "[[ 0  0  0  0  0  0  0  0  2  4  0  2  0  0  0]\n",
      " [ 0  0  0  1  0  0  0  0  2 12  1  2  0  0  0]\n",
      " [ 0  0  1  0  0  0  0  0  2  2  0  1  0  0  0]\n",
      " [ 0  0  0  6  0  0  0  0  1  6  0  5  0  0  0]\n",
      " [ 0  0  0  0  0  0  0  0  0  1  0  0  0  0  0]\n",
      " [ 0  0  0  0  0  0  0  0  0  1  0  1  0  0  0]\n",
      " [ 0  0  0  0  0  0  0  0  0  4  0  0  0  0  0]\n",
      " [ 0  0  0  1  0  0  0  0 30 15  3  0  0  0  0]\n",
      " [ 0  0  0  0  0  0  0  0  1 69  3  5  0  0  0]\n",
      " [ 0  0  0  0  0  0  0  0  3 12 18  8  0  0  0]\n",
      " [ 0  0  0  0  0  0  0  0  0 12  1 36  0  0  0]\n",
      " [ 0  0  0  0  0  0  0  0  0  2  0  0  0  0  0]\n",
      " [ 0  0  0  1  0  0  0  0  0  7  0  0  0  0  0]\n",
      " [ 0  0  0  0  0  0  0  0  0  1  1  0  0  0  0]\n",
      " [ 0  0  0  0  0  0  0  0  0 11  1  2  0  0  0]]\n"
     ]
    },
    {
     "data": {
      "image/png": "[encoded data removed]",
      "text/plain": [
       "<Figure size 640x480 with 1 Axes>"
      ]
     },
     "metadata": {},
     "output_type": "display_data"
    }
   ],
   "source": [
    "# Example of a confusion matrix in Python\n",
    "from sklearn.metrics import confusion_matrix\n",
    "\n",
    "expected = Test_Y.tolist()\n",
    "predicted =predictions_SVM.tolist()\n",
    "results = confusion_matrix(expected, predicted)\n",
    "print(results)\n",
    "from mlxtend.plotting import plot_confusion_matrix\n",
    "import matplotlib.pyplot as plt\n",
    "import numpy as np\n",
    "\n",
    "binary1 = np.array(results)\n",
    "\n",
    "fig, ax = plot_confusion_matrix(conf_mat=binary1)\n",
    "plt.show()"
   ]
  },
  {
   "cell_type": "code",
   "execution_count": 80,
   "metadata": {},
   "outputs": [
    {
     "data": {
      "image/png": "[encoded data removed]",
      "text/plain": [
       "<Figure size 640x480 with 2 Axes>"
      ]
     },
     "metadata": {},
     "output_type": "display_data"
    }
   ],
   "source": [
    "import seaborn as sns\n",
    "import matplotlib.pyplot as plt     \n",
    "labels =listofclasses# ['delhi.txt', 'mumbai.txt','pune.txt']\n",
    "ax= plt.subplot()\n",
    "expected =Encoder.inverse_transform(Test_Y.tolist()) \n",
    "predicted =Encoder.inverse_transform(predictions_SVM.tolist()) \n",
    "cm = confusion_matrix(expected, predicted, labels)\n",
    "sns.heatmap(cm, annot=True, ax = ax); #annot=True to annotate cells\n",
    "\n",
    "# labels, title and ticks\n",
    "ax.set_xlabel('Predicted labels');ax.set_ylabel('True labels'); \n",
    "ax.set_title('Confusion Matrix'); \n",
    "ax.xaxis.set_ticklabels(labels); ax.yaxis.set_ticklabels(labels);\n"
   ]
  },
  {
   "cell_type": "code",
   "execution_count": 81,
   "metadata": {},
   "outputs": [
    {
     "name": "stdout",
     "output_type": "stream",
     "text": [
      "SVM Accuracy Score ->  13.666666666666666\n"
     ]
    }
   ],
   "source": [
    "# Classifier - Algorithm - SVM\n",
    "# fit the training dataset on the classifier\n",
    "SVM = svm.SVC(C=1.0, kernel='rbf', degree=3, gamma='auto')\n",
    "SVM.fit(Train_X_Tfidf,Train_Y)\n",
    "# predict the labels on validation dataset\n",
    "predictions_SVM = SVM.predict(Test_X_Tfidf)\n",
    "# Use accuracy_score function to get the accuracy\n",
    "print(\"SVM Accuracy Score -> \",accuracy_score(predictions_SVM, Test_Y)*100)\n",
    "filename = 'svm_rbf_model.sav'\n",
    "pickle.dump(SVM, open(filename, 'wb'))"
   ]
  },
  {
   "cell_type": "code",
   "execution_count": 82,
   "metadata": {},
   "outputs": [
    {
     "name": "stdout",
     "output_type": "stream",
     "text": [
      "SVM Accuracy Score ->  13.666666666666666\n"
     ]
    }
   ],
   "source": [
    "# Classifier - Algorithm - SVM\n",
    "# fit the training dataset on the classifier\n",
    "SVM = svm.SVC(C=1.0, kernel='sigmoid', degree=3, gamma='auto')\n",
    "SVM.fit(Train_X_Tfidf,Train_Y)\n",
    "# predict the labels on validation dataset\n",
    "predictions_SVM = SVM.predict(Test_X_Tfidf)\n",
    "# Use accuracy_score function to get the accuracy\n",
    "print(\"SVM Accuracy Score -> \",accuracy_score(predictions_SVM, Test_Y)*100)\n",
    "filename = 'svm_sigmoid_model.sav'\n",
    "pickle.dump(SVM, open(filename, 'wb'))"
   ]
  },
  {
   "cell_type": "code",
   "execution_count": 83,
   "metadata": {},
   "outputs": [
    {
     "name": "stdout",
     "output_type": "stream",
     "text": [
      "[[ 0  0  0  0  0  0  0  0  0  8  0  0  0  0  0]\n",
      " [ 0  0  0  0  0  0  0  0  0 18  0  0  0  0  0]\n",
      " [ 0  0  0  0  0  0  0  0  0  6  0  0  0  0  0]\n",
      " [ 0  0  0  0  0  0  0  0  0 18  0  0  0  0  0]\n",
      " [ 0  0  0  0  0  0  0  0  0  1  0  0  0  0  0]\n",
      " [ 0  0  0  0  0  0  0  0  0  2  0  0  0  0  0]\n",
      " [ 0  0  0  0  0  0  0  0  0  4  0  0  0  0  0]\n",
      " [ 0  0  0  0  0  0  0  0  0 49  0  0  0  0  0]\n",
      " [ 0  0  0  0  0  0  0  0  0 78  0  0  0  0  0]\n",
      " [ 0  0  0  0  0  0  0  0  0 41  0  0  0  0  0]\n",
      " [ 0  0  0  0  0  0  0  0  0 49  0  0  0  0  0]\n",
      " [ 0  0  0  0  0  0  0  0  0  2  0  0  0  0  0]\n",
      " [ 0  0  0  0  0  0  0  0  0  8  0  0  0  0  0]\n",
      " [ 0  0  0  0  0  0  0  0  0  2  0  0  0  0  0]\n",
      " [ 0  0  0  0  0  0  0  0  0 14  0  0  0  0  0]]\n"
     ]
    },
    {
     "data": {
      "image/png": "[encoded data removed]",
      "text/plain": [
       "<Figure size 640x480 with 1 Axes>"
      ]
     },
     "metadata": {},
     "output_type": "display_data"
    }
   ],
   "source": [
    "# Example of a confusion matrix in Python\n",
    "from sklearn.metrics import confusion_matrix\n",
    "\n",
    "expected = Test_Y.tolist()\n",
    "predicted =predictions_SVM.tolist()\n",
    "results = confusion_matrix(expected, predicted)\n",
    "print(results)\n",
    "from mlxtend.plotting import plot_confusion_matrix\n",
    "import matplotlib.pyplot as plt\n",
    "import numpy as np\n",
    "\n",
    "binary1 = np.array(results)\n",
    "\n",
    "fig, ax = plot_confusion_matrix(conf_mat=binary1)\n",
    "plt.show()"
   ]
  },
  {
   "cell_type": "code",
   "execution_count": 84,
   "metadata": {},
   "outputs": [
    {
     "data": {
      "image/png": "[encoded data removed]",
      "text/plain": [
       "<Figure size 640x480 with 2 Axes>"
      ]
     },
     "metadata": {},
     "output_type": "display_data"
    }
   ],
   "source": [
    "import seaborn as sns\n",
    "import matplotlib.pyplot as plt     \n",
    "labels =listofclasses# ['delhi.txt', 'mumbai.txt','pune.txt']\n",
    "ax= plt.subplot()\n",
    "expected =Encoder.inverse_transform(Test_Y.tolist()) \n",
    "predicted =Encoder.inverse_transform(predictions_SVM.tolist()) \n",
    "cm = confusion_matrix(expected, predicted, labels)\n",
    "sns.heatmap(cm, annot=True, ax = ax); #annot=True to annotate cells\n",
    "\n",
    "# labels, title and ticks\n",
    "ax.set_xlabel('Predicted labels');ax.set_ylabel('True labels'); \n",
    "ax.set_title('Confusion Matrix'); \n",
    "ax.xaxis.set_ticklabels(labels); ax.yaxis.set_ticklabels(labels);\n"
   ]
  },
  {
   "cell_type": "code",
   "execution_count": 85,
   "metadata": {},
   "outputs": [
    {
     "name": "stdout",
     "output_type": "stream",
     "text": [
      "RF Accuracy Score ->  7.666666666666666\n"
     ]
    }
   ],
   "source": [
    "from sklearn.ensemble import RandomForestClassifier\n",
    "classifier = RandomForestClassifier(n_estimators=2500, random_state=0)\n",
    "classifier.fit(Train_X_Tfidf, Train_Y) \n",
    "\n",
    "predictions_RF = classifier.predict(Test_X_Tfidf)\n",
    "# Use accuracy_score function to get the accuracy\n",
    "print(\"RF Accuracy Score -> \",accuracy_score(predictions_RF, Test_Y)*100)\n",
    "filename = 'random_forest_model.sav'\n",
    "pickle.dump(classifier, open(filename, 'wb'))\n",
    "acc=accuracy_score(predictions_RF, Test_Y)*100\n",
    "algorithmname.append('Random Forest')\n",
    "algoaccuracy.append(acc)"
   ]
  },
  {
   "cell_type": "code",
   "execution_count": 86,
   "metadata": {},
   "outputs": [
    {
     "ename": "ValueError",
     "evalue": "y contains previously unseen labels: [15]",
     "output_type": "error",
     "traceback": [
      "\u001b[1;31m---------------------------------------------------------------------------\u001b[0m",
      "\u001b[1;31mValueError\u001b[0m                                Traceback (most recent call last)",
      "\u001b[1;32m<ipython-input-86-2730d10b8e31>\u001b[0m in \u001b[0;36m<module>\u001b[1;34m\u001b[0m\n\u001b[0;32m      4\u001b[0m \u001b[0max\u001b[0m\u001b[1;33m=\u001b[0m \u001b[0mplt\u001b[0m\u001b[1;33m.\u001b[0m\u001b[0msubplot\u001b[0m\u001b[1;33m(\u001b[0m\u001b[1;33m)\u001b[0m\u001b[1;33m\u001b[0m\u001b[1;33m\u001b[0m\u001b[0m\n\u001b[0;32m      5\u001b[0m \u001b[0mexpected\u001b[0m \u001b[1;33m=\u001b[0m\u001b[0mEncoder\u001b[0m\u001b[1;33m.\u001b[0m\u001b[0minverse_transform\u001b[0m\u001b[1;33m(\u001b[0m\u001b[0mTest_Y\u001b[0m\u001b[1;33m.\u001b[0m\u001b[0mtolist\u001b[0m\u001b[1;33m(\u001b[0m\u001b[1;33m)\u001b[0m\u001b[1;33m)\u001b[0m\u001b[1;33m\u001b[0m\u001b[1;33m\u001b[0m\u001b[0m\n\u001b[1;32m----> 6\u001b[1;33m \u001b[0mpredicted\u001b[0m \u001b[1;33m=\u001b[0m\u001b[0mEncoder\u001b[0m\u001b[1;33m.\u001b[0m\u001b[0minverse_transform\u001b[0m\u001b[1;33m(\u001b[0m\u001b[0mpredictions_RF\u001b[0m\u001b[1;33m.\u001b[0m\u001b[0mtolist\u001b[0m\u001b[1;33m(\u001b[0m\u001b[1;33m)\u001b[0m\u001b[1;33m)\u001b[0m\u001b[1;33m\u001b[0m\u001b[1;33m\u001b[0m\u001b[0m\n\u001b[0m\u001b[0;32m      7\u001b[0m \u001b[0mcm\u001b[0m \u001b[1;33m=\u001b[0m \u001b[0mconfusion_matrix\u001b[0m\u001b[1;33m(\u001b[0m\u001b[0mexpected\u001b[0m\u001b[1;33m,\u001b[0m \u001b[0mpredicted\u001b[0m\u001b[1;33m,\u001b[0m \u001b[0mlabels\u001b[0m\u001b[1;33m)\u001b[0m\u001b[1;33m\u001b[0m\u001b[1;33m\u001b[0m\u001b[0m\n\u001b[0;32m      8\u001b[0m \u001b[0msns\u001b[0m\u001b[1;33m.\u001b[0m\u001b[0mheatmap\u001b[0m\u001b[1;33m(\u001b[0m\u001b[0mcm\u001b[0m\u001b[1;33m,\u001b[0m \u001b[0mannot\u001b[0m\u001b[1;33m=\u001b[0m\u001b[1;32mTrue\u001b[0m\u001b[1;33m,\u001b[0m \u001b[0max\u001b[0m \u001b[1;33m=\u001b[0m \u001b[0max\u001b[0m\u001b[1;33m)\u001b[0m\u001b[1;33m;\u001b[0m \u001b[1;31m#annot=True to annotate cells\u001b[0m\u001b[1;33m\u001b[0m\u001b[1;33m\u001b[0m\u001b[0m\n",
      "\u001b[1;32m~\\.conda\\envs\\project\\lib\\site-packages\\sklearn\\preprocessing\\_label.py\u001b[0m in \u001b[0;36minverse_transform\u001b[1;34m(self, y)\u001b[0m\n\u001b[0;32m    299\u001b[0m         \u001b[1;32mif\u001b[0m \u001b[0mlen\u001b[0m\u001b[1;33m(\u001b[0m\u001b[0mdiff\u001b[0m\u001b[1;33m)\u001b[0m\u001b[1;33m:\u001b[0m\u001b[1;33m\u001b[0m\u001b[1;33m\u001b[0m\u001b[0m\n\u001b[0;32m    300\u001b[0m             raise ValueError(\n\u001b[1;32m--> 301\u001b[1;33m                     \"y contains previously unseen labels: %s\" % str(diff))\n\u001b[0m\u001b[0;32m    302\u001b[0m         \u001b[0my\u001b[0m \u001b[1;33m=\u001b[0m \u001b[0mnp\u001b[0m\u001b[1;33m.\u001b[0m\u001b[0masarray\u001b[0m\u001b[1;33m(\u001b[0m\u001b[0my\u001b[0m\u001b[1;33m)\u001b[0m\u001b[1;33m\u001b[0m\u001b[1;33m\u001b[0m\u001b[0m\n\u001b[0;32m    303\u001b[0m         \u001b[1;32mreturn\u001b[0m \u001b[0mself\u001b[0m\u001b[1;33m.\u001b[0m\u001b[0mclasses_\u001b[0m\u001b[1;33m[\u001b[0m\u001b[0my\u001b[0m\u001b[1;33m]\u001b[0m\u001b[1;33m\u001b[0m\u001b[1;33m\u001b[0m\u001b[0m\n",
      "\u001b[1;31mValueError\u001b[0m: y contains previously unseen labels: [15]"
     ]
    },
    {
     "data": {
      "image/png": "[encoded data removed]",
      "text/plain": [
       "<Figure size 640x480 with 1 Axes>"
      ]
     },
     "metadata": {},
     "output_type": "display_data"
    }
   ],
   "source": [
    "import seaborn as sns\n",
    "import matplotlib.pyplot as plt     \n",
    "labels =listofclasses# ['delhi.txt', 'mumbai.txt','pune.txt']\n",
    "ax= plt.subplot()\n",
    "expected =Encoder.inverse_transform(Test_Y.tolist()) \n",
    "predicted =Encoder.inverse_transform(predictions_RF.tolist()) \n",
    "cm = confusion_matrix(expected, predicted, labels)\n",
    "sns.heatmap(cm, annot=True, ax = ax); #annot=True to annotate cells\n",
    "\n",
    "# labels, title and ticks\n",
    "ax.set_xlabel('Predicted labels');ax.set_ylabel('True labels'); \n",
    "ax.set_title('Confusion Matrix'); \n",
    "ax.xaxis.set_ticklabels(labels); ax.yaxis.set_ticklabels(labels);\n"
   ]
  },
  {
   "cell_type": "code",
   "execution_count": null,
   "metadata": {},
   "outputs": [],
   "source": [
    "from sklearn.metrics import precision_recall_fscore_support\n",
    "op=precision_recall_fscore_support(Test_Y, predictions_RF, average='macro')\n",
    "\n",
    "print(\"precision is \"+str(op[0]))\n",
    "print(\"recall is \"+str(op[1]))\n",
    "print(\"f1score is \"+str(op[2]))\n"
   ]
  },
  {
   "cell_type": "code",
   "execution_count": null,
   "metadata": {},
   "outputs": [],
   "source": [
    "# Example of a confusion matrix in Python\n",
    "from sklearn.metrics import confusion_matrix\n",
    "\n",
    "expected = Test_Y.tolist()\n",
    "predicted =predictions_RF.tolist()\n",
    "results = confusion_matrix(expected, predicted)\n",
    "print(results)\n",
    "from mlxtend.plotting import plot_confusion_matrix\n",
    "import matplotlib.pyplot as plt\n",
    "import numpy as np\n",
    "\n",
    "binary1 = np.array(results)\n",
    "\n",
    "fig, ax = plot_confusion_matrix(conf_mat=binary1)\n",
    "plt.show()"
   ]
  },
  {
   "cell_type": "code",
   "execution_count": null,
   "metadata": {},
   "outputs": [],
   "source": [
    "from sklearn.ensemble import RandomForestClassifier\n",
    "classifier = RandomForestClassifier(n_estimators=1000, random_state=0)\n",
    "classifier.fit(Train_X_Tfidf, Train_Y) \n",
    "\n",
    "predictions_RF = classifier.predict(Test_X_Tfidf)\n",
    "# Use accuracy_score function to get the accuracy\n",
    "print(\"RF Accuracy Score -> \",accuracy_score(predictions_RF, Test_Y)*100)"
   ]
  },
  {
   "cell_type": "code",
   "execution_count": null,
   "metadata": {},
   "outputs": [],
   "source": [
    "# Example of a confusion matrix in Python\n",
    "from sklearn.metrics import confusion_matrix\n",
    "\n",
    "expected = Test_Y.tolist()\n",
    "predicted =predictions_RF.tolist()\n",
    "results = confusion_matrix(expected, predicted)\n",
    "print(results)\n",
    "from mlxtend.plotting import plot_confusion_matrix\n",
    "import matplotlib.pyplot as plt\n",
    "import numpy as np\n",
    "\n",
    "binary1 = np.array(results)\n",
    "\n",
    "fig, ax = plot_confusion_matrix(conf_mat=binary1)\n",
    "plt.show()"
   ]
  },
  {
   "cell_type": "code",
   "execution_count": null,
   "metadata": {},
   "outputs": [],
   "source": [
    "from sklearn.metrics import precision_recall_fscore_support\n",
    "op=precision_recall_fscore_support(Test_Y, predictions_RF, average='macro')\n",
    "\n",
    "print(\"precision is \"+str(op[0]))\n",
    "print(\"recall is \"+str(op[1]))\n",
    "print(\"f1score is \"+str(op[2]))\n"
   ]
  },
  {
   "cell_type": "code",
   "execution_count": null,
   "metadata": {},
   "outputs": [],
   "source": [
    "Train_X_Tfidf.shape"
   ]
  },
  {
   "cell_type": "code",
   "execution_count": null,
   "metadata": {},
   "outputs": [],
   "source": []
  },
  {
   "cell_type": "code",
   "execution_count": null,
   "metadata": {},
   "outputs": [],
   "source": []
  },
  {
   "cell_type": "code",
   "execution_count": 58,
   "metadata": {},
   "outputs": [
    {
     "name": "stdout",
     "output_type": "stream",
     "text": [
      "accuracy 0.26666666666666666accuracy 0.26666666666666666accuracy 0.26666666666666666accuracy 0.26666666666666666accuracy 0.26666666666666666accuracy 0.26666666666666666accuracy 0.26666666666666666accuracy 0.26666666666666666accuracy 0.26666666666666666accuracy 0.26666666666666666accuracy 0.26666666666666666accuracy 0.26666666666666666accuracy 0.26666666666666666accuracy 0.26666666666666666accuracy 0.26666666666666666accuracy 0.26666666666666666accuracy 0.26666666666666666accuracy 0.26666666666666666accuracy 0.26666666666666666accuracy 0.26666666666666666accuracy 0.26666666666666666accuracy 0.26666666666666666accuracy 0.26666666666666666accuracy 0.26666666666666666accuracy 0.26666666666666666accuracy 0.26666666666666666accuracy 0.26666666666666666accuracy 0.26666666666666666accuracy 0.26666666666666666accuracy 0.26666666666666666accuracy 0.26666666666666666accuracy 0.26666666666666666accuracy 0.26666666666666666accuracy 0.26666666666666666accuracy 0.26666666666666666accuracy 0.26666666666666666accuracy 0.26666666666666666accuracy 0.26666666666666666accuracy 0.26666666666666666accuracy 0.26666666666666666accuracy 0.26666666666666666accuracy 0.26666666666666666accuracy 0.26666666666666666accuracy 0.26666666666666666accuracy 0.26666666666666666accuracy 0.26666666666666666accuracy 0.26666666666666666accuracy 0.26666666666666666accuracy 0.26666666666666666accuracy 0.26666666666666666accuracy 0.26666666666666666accuracy 0.26666666666666666accuracy 0.26666666666666666accuracy 0.26666666666666666accuracy 0.26666666666666666accuracy 0.26666666666666666accuracy 0.26666666666666666accuracy 0.26666666666666666accuracy 0.26666666666666666accuracy 0.26666666666666666accuracy 0.26666666666666666accuracy 0.26666666666666666accuracy 0.26666666666666666accuracy 0.26666666666666666accuracy 0.26666666666666666accuracy 0.26666666666666666accuracy 0.26666666666666666accuracy 0.26666666666666666accuracy 0.26666666666666666accuracy 0.26666666666666666accuracy 0.26666666666666666accuracy 0.26666666666666666accuracy 0.26666666666666666accuracy 0.26666666666666666accuracy 0.26666666666666666accuracy 0.26666666666666666accuracy 0.26666666666666666accuracy 0.26666666666666666accuracy 0.26666666666666666accuracy 0.26666666666666666accuracy 0.26666666666666666accuracy 0.26666666666666666accuracy 0.26666666666666666accuracy 0.26666666666666666accuracy 0.26666666666666666accuracy 0.26666666666666666accuracy 0.26666666666666666accuracy 0.26666666666666666accuracy 0.26666666666666666accuracy 0.26666666666666666accuracy 0.26666666666666666accuracy 0.26666666666666666accuracy 0.26666666666666666accuracy 0.26666666666666666accuracy 0.26666666666666666accuracy 0.26666666666666666accuracy 0.26666666666666666accuracy 0.26666666666666666accuracy 0.26666666666666666accuracy 0.26666666666666666\n"
     ]
    }
   ],
   "source": [
    "from sklearn.linear_model import LogisticRegression\n",
    "from sklearn.pipeline import Pipeline\n",
    "from sklearn.feature_extraction.text import TfidfTransformer\n",
    "from sklearn.feature_extraction.text import CountVectorizer, TfidfVectorizer\n",
    "from sklearn.metrics import accuracy_score, confusion_matrix\n",
    "from sklearn.metrics import classification_report\n",
    "#Train_X, Test_X, Train_Y, Test_Y = model_selection.train_test_split(Corpus['text_final'],Corpus['label'],test_size=0.3)\n",
    "\n",
    "logreg = Pipeline([('vect', CountVectorizer()),\n",
    "                ('tfidf', TfidfTransformer()),\n",
    "                ('clf', LogisticRegression(n_jobs=1, C=1e5)),\n",
    "               ])\n",
    "logreg.fit(Train_X, Train_Y)\n",
    "\n",
    "\n",
    "\n",
    "y_pred = logreg.predict(Test_X)\n",
    "\n",
    "print('accuracy %s' % accuracy_score(y_pred, Test_Y)*100)\n",
    "acc=accuracy_score(y_pred, Test_Y)*100\n",
    "algorithmname.append('Logistic regression')\n",
    "algoaccuracy.append(acc)\n",
    "#print(classification_report(y_test, y_pred))"
   ]
  },
  {
   "cell_type": "code",
   "execution_count": 59,
   "metadata": {},
   "outputs": [
    {
     "name": "stdout",
     "output_type": "stream",
     "text": [
      "[[0 0 0 0 0 1 0 0 0 0 0]\n",
      " [0 0 0 0 2 0 0 0 0 0 0]\n",
      " [1 0 0 0 0 1 0 0 0 0 0]\n",
      " [0 0 0 0 0 1 0 1 0 0 0]\n",
      " [0 0 0 0 2 1 0 0 0 0 0]\n",
      " [0 0 0 0 1 4 0 1 0 0 0]\n",
      " [0 0 0 0 1 1 0 4 0 0 0]\n",
      " [0 0 0 0 1 0 0 2 0 0 0]\n",
      " [0 0 0 0 1 1 0 0 0 0 0]\n",
      " [0 0 0 0 0 2 0 0 0 0 0]\n",
      " [0 0 0 0 1 0 0 0 0 0 0]]\n"
     ]
    },
    {
     "data": {
      "image/png": "[encoded data removed]",
      "text/plain": [
       "<Figure size 432x288 with 1 Axes>"
      ]
     },
     "metadata": {
      "needs_background": "light"
     },
     "output_type": "display_data"
    }
   ],
   "source": [
    "# Example of a confusion matrix in Python\n",
    "from sklearn.metrics import confusion_matrix\n",
    "\n",
    "expected = Test_Y.tolist()\n",
    "predicted =y_pred.tolist()\n",
    "results = confusion_matrix(expected, predicted)\n",
    "print(results)\n",
    "from mlxtend.plotting import plot_confusion_matrix\n",
    "import matplotlib.pyplot as plt\n",
    "import numpy as np\n",
    "\n",
    "binary1 = np.array(results)\n",
    "\n",
    "fig, ax = plot_confusion_matrix(conf_mat=binary1)\n",
    "plt.show()"
   ]
  },
  {
   "cell_type": "code",
   "execution_count": 60,
   "metadata": {},
   "outputs": [
    {
     "name": "stderr",
     "output_type": "stream",
     "text": [
      "C:\\Users\\ningesh\\.conda\\envs\\project\\lib\\site-packages\\sklearn\\utils\\validation.py:71: FutureWarning: Pass labels=['ENFJ', 'ENFP', 'ENTJ', 'ENTP', 'INFJ', 'INFP', 'INTJ', 'INTP', 'ISFJ', 'ISFP', 'ISTJ'] as keyword args. From version 0.25 passing these as positional arguments will result in an error\n",
      "  FutureWarning)\n"
     ]
    },
    {
     "data": {
      "image/png": "[encoded data removed]",
      "text/plain": [
       "<Figure size 432x288 with 2 Axes>"
      ]
     },
     "metadata": {
      "needs_background": "light"
     },
     "output_type": "display_data"
    }
   ],
   "source": [
    "import seaborn as sns\n",
    "import matplotlib.pyplot as plt     \n",
    "labels = listofclasses#['delhi.txt', 'mumbai.txt','pune.txt']\n",
    "ax= plt.subplot()\n",
    "expected =Encoder.inverse_transform(Test_Y.tolist()) \n",
    "predicted =Encoder.inverse_transform(y_pred.tolist()) \n",
    "cm = confusion_matrix(expected, predicted, labels)\n",
    "sns.heatmap(cm, annot=True, ax = ax); #annot=True to annotate cells\n",
    "\n",
    "# labels, title and ticks\n",
    "ax.set_xlabel('Predicted labels');ax.set_ylabel('True labels'); \n",
    "ax.set_title('Confusion Matrix'); \n",
    "ax.xaxis.set_ticklabels(labels); ax.yaxis.set_ticklabels(labels);\n"
   ]
  },
  {
   "cell_type": "code",
   "execution_count": 61,
   "metadata": {},
   "outputs": [
    {
     "data": {
      "image/png": "[encoded data removed]",
      "text/plain": [
       "<Figure size 640x480 with 1 Axes>"
      ]
     },
     "metadata": {},
     "output_type": "display_data"
    }
   ],
   "source": [
    "import matplotlib.pyplot as plt; plt.rcdefaults()\n",
    "import numpy as np\n",
    "import matplotlib.pyplot as plt\n",
    "\n",
    "objects =algorithmname\n",
    "y_pos = np.arange(len(objects))\n",
    "performance = algoaccuracy\n",
    "\n",
    "plt.bar(y_pos, performance, align='center', alpha=0.5)\n",
    "plt.xticks(y_pos, objects)\n",
    "plt.ylabel('Accuracy')\n",
    "plt.title('Algorithm')\n",
    "\n",
    "plt.show()"
   ]
  },
  {
   "cell_type": "code",
   "execution_count": 87,
   "metadata": {},
   "outputs": [],
   "source": [
    "#count_vect = CountVectorizer()"
   ]
  },
  {
   "cell_type": "code",
   "execution_count": null,
   "metadata": {},
   "outputs": [],
   "source": []
  },
  {
   "cell_type": "code",
   "execution_count": 1,
   "metadata": {},
   "outputs": [],
   "source": [
    "import pandas as pd\n",
    "import numpy as np\n",
    "from nltk.tokenize import word_tokenize\n",
    "from nltk import pos_tag\n",
    "from nltk.corpus import stopwords\n",
    "from nltk.stem import WordNetLemmatizer\n",
    "from sklearn.preprocessing import LabelEncoder\n",
    "from collections import defaultdict\n",
    "from nltk.corpus import wordnet as wn\n",
    "from sklearn.feature_extraction.text import TfidfVectorizer\n",
    "from sklearn import model_selection, naive_bayes, svm\n",
    "from sklearn.metrics import accuracy_score\n",
    "import pickle\n",
    "from sklearn.feature_extraction.text import CountVectorizer\n",
    "import pandas as pd\n",
    "filename='naive_bayes_model.sav'\n",
    "loaded_model = pickle.load(open(filename, 'rb'))"
   ]
  },
  {
   "cell_type": "code",
   "execution_count": 2,
   "metadata": {},
   "outputs": [],
   "source": [
    "Corpus = pd.read_csv(r\"personalityData.csv\",encoding='latin-1',nrows=10,error_bad_lines=False)\n",
    "# Step - a : Remove blank rows if any.\n",
    "Corpus['text'].dropna(inplace=True)\n",
    "# Step - b : Change all the text to lower case. This is required as python interprets 'dog' and 'DOG' differently\n",
    "Corpus['text'] = [entry.lower() for entry in Corpus['text']]\n",
    "# Step - c : Tokenization : In this each entry in the corpus will be broken into set of words\n",
    "Corpus['text']= [word_tokenize(entry) for entry in Corpus['text']]\n",
    "# Step - d : Remove Stop words, Non-Numeric and perfom Word Stemming/Lemmenting.\n",
    "# WordNetLemmatizer requires Pos tags to understand if the word is noun or verb or adjective etc. By default it is set to Noun\n",
    "tag_map = defaultdict(lambda : wn.NOUN)\n",
    "tag_map['J'] = wn.ADJ\n",
    "tag_map['V'] = wn.VERB\n",
    "tag_map['R'] = wn.ADV\n",
    "for index,entry in enumerate(Corpus['text']):\n",
    "    # Declaring Empty List to store the words that follow the rules for this step\n",
    "    Final_words = []\n",
    "    # Initializing WordNetLemmatizer()\n",
    "    word_Lemmatized = WordNetLemmatizer()\n",
    "    # pos_tag function below will provide the 'tag' i.e if the word is Noun(N) or Verb(V) or something else.\n",
    "    for word, tag in pos_tag(entry):\n",
    "        # Below condition is to check for Stop words and consider only alphabets\n",
    "        if word not in stopwords.words('english') and word.isalpha():\n",
    "            word_Final = word_Lemmatized.lemmatize(word,tag_map[tag[0]])\n",
    "            Final_words.append(word_Final)\n",
    "    # The final processed set of words for each iteration will be stored in 'text_final'\n",
    "    Corpus.loc[index,'text_final'] = str(Final_words)\n",
    "Train_X, Test_X, Train_Y, Test_Y = model_selection.train_test_split(Corpus['text_final'],Corpus['label'],test_size=0.3)\n",
    "Tfidf_vect = TfidfVectorizer(max_features=5000)\n",
    "Tfidf_vect.fit(Corpus['text_final'])\n",
    "Train_X_Tfidf = Tfidf_vect.transform(Train_X)\n",
    "Test_X_Tfidf = Tfidf_vect.transform(Test_X)"
   ]
  },
  {
   "cell_type": "code",
   "execution_count": 2,
   "metadata": {},
   "outputs": [
    {
     "data": {
      "text/plain": [
       "TfidfVectorizer(max_features=5000)"
      ]
     },
     "execution_count": 2,
     "metadata": {},
     "output_type": "execute_result"
    }
   ],
   "source": [
    "Corpus = pd.read_csv(r\"processed_data.csv\",encoding='latin-1',nrows=10,error_bad_lines=False)\n",
    "Tfidf_vect = TfidfVectorizer(max_features=5000)\n",
    "Tfidf_vect.fit(Corpus['text_final'])"
   ]
  },
  {
   "cell_type": "code",
   "execution_count": 10,
   "metadata": {},
   "outputs": [],
   "source": [
    "predictions_RF = loaded_model.predict(Tfidf_vect.transform(['hi hello']))"
   ]
  },
  {
   "cell_type": "code",
   "execution_count": 11,
   "metadata": {},
   "outputs": [
    {
     "data": {
      "text/plain": [
       "'INTP'"
      ]
     },
     "execution_count": 11,
     "metadata": {},
     "output_type": "execute_result"
    }
   ],
   "source": [
    "predictions_RF[0]"
   ]
  },
  {
   "cell_type": "code",
   "execution_count": 6,
   "metadata": {},
   "outputs": [],
   "source": [
    "listofclasses=['ENFJ',\n",
    " 'ENFP',\n",
    " 'ENTJ',\n",
    " 'ENTP',\n",
    " 'ESFJ',\n",
    " 'ESFP',\n",
    " 'ESTP',\n",
    " 'INFJ',\n",
    " 'INFP',\n",
    " 'INTJ',\n",
    " 'INTP',\n",
    " 'ISFJ',\n",
    " 'ISFP',\n",
    " 'ISTJ',\n",
    " 'ISTP']"
   ]
  },
  {
   "cell_type": "code",
   "execution_count": 7,
   "metadata": {},
   "outputs": [
    {
     "ename": "TypeError",
     "evalue": "unsupported operand type(s) for -: 'numpy.str_' and 'int'",
     "output_type": "error",
     "traceback": [
      "\u001b[1;31m---------------------------------------------------------------------------\u001b[0m",
      "\u001b[1;31mTypeError\u001b[0m                                 Traceback (most recent call last)",
      "\u001b[1;32m<ipython-input-7-58ff693a73d9>\u001b[0m in \u001b[0;36m<module>\u001b[1;34m\u001b[0m\n\u001b[1;32m----> 1\u001b[1;33m \u001b[0mlistofclasses\u001b[0m\u001b[1;33m[\u001b[0m\u001b[0mpredictions_RF\u001b[0m\u001b[1;33m[\u001b[0m\u001b[1;36m0\u001b[0m\u001b[1;33m]\u001b[0m\u001b[1;33m-\u001b[0m\u001b[1;36m1\u001b[0m\u001b[1;33m]\u001b[0m\u001b[1;33m\u001b[0m\u001b[1;33m\u001b[0m\u001b[0m\n\u001b[0m",
      "\u001b[1;31mTypeError\u001b[0m: unsupported operand type(s) for -: 'numpy.str_' and 'int'"
     ]
    }
   ],
   "source": [
    "listofclasses[predictions_RF[0]-1]"
   ]
  },
  {
   "cell_type": "code",
   "execution_count": 19,
   "metadata": {},
   "outputs": [
    {
     "name": "stdout",
     "output_type": "stream",
     "text": [
      "[1]\n"
     ]
    }
   ],
   "source": [
    "# -*- coding: utf-8 -*-\n",
    "\"\"\"\n",
    "Created on Sat Oct 31 17:24:46 2020\n",
    "\n",
    "@author: ningesh\n",
    "\"\"\"\n",
    "\n",
    "import pandas as pd\n",
    "import numpy as np\n",
    "from nltk.tokenize import word_tokenize\n",
    "from nltk import pos_tag\n",
    "from nltk.corpus import stopwords\n",
    "from nltk.stem import WordNetLemmatizer\n",
    "from sklearn.preprocessing import LabelEncoder\n",
    "from collections import defaultdict\n",
    "from nltk.corpus import wordnet as wn\n",
    "from sklearn.feature_extraction.text import TfidfVectorizer\n",
    "from sklearn import model_selection, naive_bayes, svm\n",
    "from sklearn.metrics import accuracy_score\n",
    "import pickle\n",
    "from sklearn.feature_extraction.text import CountVectorizer\n",
    "import pandas as pd\n",
    "filename='naive_bayes_model.sav'\n",
    "loaded_model = pickle.load(open(filename, 'rb'))\n",
    "Corpus = pd.read_csv(r\"processed_data.csv\",encoding='latin-1',nrows=10,error_bad_lines=False)\n",
    "Tfidf_vect = TfidfVectorizer(max_features=5000)\n",
    "Tfidf_vect.fit(Corpus['text_final'])\n",
    "\n",
    "predictions_RF = loaded_model.predict(Tfidf_vect.transform(['hi hello']))\n",
    "print(predictions_RF)"
   ]
  },
  {
   "cell_type": "code",
   "execution_count": null,
   "metadata": {},
   "outputs": [],
   "source": []
  }
 ],
 "metadata": {
  "kernelspec": {
   "display_name": "Python 3 (ipykernel)",
   "language": "python",
   "name": "python3"
  },
  "language_info": {
   "codemirror_mode": {
    "name": "ipython",
    "version": 3
   },
   "file_extension": ".py",
   "mimetype": "text/x-python",
   "name": "python",
   "nbconvert_exporter": "python",
   "pygments_lexer": "ipython3",
   "version": "3.7.11"
  }
 },
 "nbformat": 4,
 "nbformat_minor": 2
}
